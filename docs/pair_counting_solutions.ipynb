{
 "cells": [
  {
   "cell_type": "markdown",
   "metadata": {},
   "source": [
    "# Day 2 - Finding neighbours"
   ]
  },
  {
   "cell_type": "code",
   "execution_count": 8,
   "metadata": {},
   "outputs": [
    {
     "data": {
      "text/html": [
       "<script>$(\"div.input\").hide()</script>"
      ],
      "text/plain": [
       "<IPython.core.display.HTML object>"
      ]
     },
     "metadata": {},
     "output_type": "display_data"
    },
    {
     "data": {
      "application/vnd.jupyter.widget-view+json": {
       "model_id": "0a0d9d4fbc1144d69b152a37393cc85c",
       "version_major": 2,
       "version_minor": 0
      },
      "text/plain": [
       "ToggleButton(value=False, description='Show code')"
      ]
     },
     "metadata": {},
     "output_type": "display_data"
    },
    {
     "data": {
      "text/html": [
       "<script>$(\"div.input\").show()</script>"
      ],
      "text/plain": [
       "<IPython.core.display.HTML object>"
      ]
     },
     "metadata": {},
     "output_type": "display_data"
    }
   ],
   "source": [
    "import ipywidgets as widgets\n",
    "from IPython.display import display, HTML\n",
    "\n",
    "javascript_functions = {False: \"hide()\", True: \"show()\"}\n",
    "button_descriptions  = {False: \"Show code\", True: \"Hide code\"}\n",
    "\n",
    "def toggle_code(state):\n",
    "\n",
    "    \"\"\"\n",
    "    Toggles the JavaScript show()/hide() function on the div.input element.\n",
    "    \"\"\"\n",
    "\n",
    "    output_string = \"<script>$(\\\"div.input\\\").{}</script>\"\n",
    "    output_args   = (javascript_functions[state],)\n",
    "    output        = output_string.format(*output_args)\n",
    "\n",
    "    display(HTML(output))\n",
    "\n",
    "\n",
    "def button_action(value):\n",
    "\n",
    "    \"\"\"\n",
    "    Calls the toggle_code function and updates the button description.\n",
    "    \"\"\"\n",
    "\n",
    "    state = value.new\n",
    "\n",
    "    toggle_code(state)\n",
    "\n",
    "    value.owner.description = button_descriptions[state]\n",
    "\n",
    "\n",
    "state = False\n",
    "toggle_code(state)\n",
    "\n",
    "button = widgets.ToggleButton(state, description = button_descriptions[state])\n",
    "button.observe(button_action, \"value\")\n",
    "\n",
    "display(button)"
   ]
  },
  {
   "cell_type": "code",
   "execution_count": 9,
   "metadata": {},
   "outputs": [],
   "source": [
    "import pandas as pd\n",
    "import numpy as np\n",
    "from matplotlib import pyplot as plt\n",
    "from time import time"
   ]
  },
  {
   "cell_type": "markdown",
   "metadata": {},
   "source": [
    "### Reading the lens/source catalog"
   ]
  },
  {
   "cell_type": "code",
   "execution_count": 10,
   "metadata": {
    "tags": [
     "hide_input"
    ]
   },
   "outputs": [
    {
     "name": "stdout",
     "output_type": "stream",
     "text": [
      "ra,dec,z,col_3,col_4,col_5\r\n",
      "30.611734783139795,-6.3569091978972425,23.901826,23.043298,22.649281,0.5\r\n",
      "30.61078116389429,-6.350381359287763,22.385773,21.548382,21.272576,0.38\r\n",
      "30.596477830319948,-6.3461523588063935,23.948118,23.121471,22.773187,0.37\r\n",
      "30.592680083175416,-6.3445214768250775,23.42731400000001,22.022285999999998,21.334948,0.45\r\n"
     ]
    }
   ],
   "source": [
    "# !head -n 5 /home/idies/workspace/Storage/navin/persistent/demo_objects.csv\n",
    "!head -n 5 demo_objects.csv\n",
    "# !wc -l /home/idies/workspace/Storage/navin/persistent/demo_objects.csv"
   ]
  },
  {
   "cell_type": "code",
   "execution_count": 11,
   "metadata": {},
   "outputs": [],
   "source": [
    "#reading lens file\n",
    "\n",
    "#tries to read everthing in the file\n",
    "# df = pd.read_csv(f\"/home/idies/workspace/Storage/navin/persistent/demo_objects.csv\", sep=',') \n",
    "\n",
    "df = pd.read_csv(f\"demo_objects.csv\", sep=',')"
   ]
  },
  {
   "cell_type": "markdown",
   "metadata": {},
   "source": [
    "\\# a brief look of what dataFrame has for us-\n",
    "\n",
    "Data from - `HSC survey`<br>\n",
    "\n",
    "ra,dec    - coordinates in units of degrees.<br>\n",
    "\n",
    "z         - photometric redshifts of the objects.\n",
    "\n",
    "col_1,col_2,col_3 - extra columns which have to be ignored\n"
   ]
  },
  {
   "cell_type": "code",
   "execution_count": 12,
   "metadata": {},
   "outputs": [
    {
     "data": {
      "text/html": [
       "<div>\n",
       "<style scoped>\n",
       "    .dataframe tbody tr th:only-of-type {\n",
       "        vertical-align: middle;\n",
       "    }\n",
       "\n",
       "    .dataframe tbody tr th {\n",
       "        vertical-align: top;\n",
       "    }\n",
       "\n",
       "    .dataframe thead th {\n",
       "        text-align: right;\n",
       "    }\n",
       "</style>\n",
       "<table border=\"1\" class=\"dataframe\">\n",
       "  <thead>\n",
       "    <tr style=\"text-align: right;\">\n",
       "      <th></th>\n",
       "      <th>ra</th>\n",
       "      <th>dec</th>\n",
       "      <th>z</th>\n",
       "      <th>col_3</th>\n",
       "      <th>col_4</th>\n",
       "      <th>col_5</th>\n",
       "    </tr>\n",
       "  </thead>\n",
       "  <tbody>\n",
       "    <tr>\n",
       "      <th>0</th>\n",
       "      <td>30.611735</td>\n",
       "      <td>-6.356909</td>\n",
       "      <td>23.901826</td>\n",
       "      <td>23.043298</td>\n",
       "      <td>22.649281</td>\n",
       "      <td>0.50</td>\n",
       "    </tr>\n",
       "    <tr>\n",
       "      <th>1</th>\n",
       "      <td>30.610781</td>\n",
       "      <td>-6.350381</td>\n",
       "      <td>22.385773</td>\n",
       "      <td>21.548382</td>\n",
       "      <td>21.272576</td>\n",
       "      <td>0.38</td>\n",
       "    </tr>\n",
       "    <tr>\n",
       "      <th>2</th>\n",
       "      <td>30.596478</td>\n",
       "      <td>-6.346152</td>\n",
       "      <td>23.948118</td>\n",
       "      <td>23.121471</td>\n",
       "      <td>22.773187</td>\n",
       "      <td>0.37</td>\n",
       "    </tr>\n",
       "    <tr>\n",
       "      <th>3</th>\n",
       "      <td>30.592680</td>\n",
       "      <td>-6.344521</td>\n",
       "      <td>23.427314</td>\n",
       "      <td>22.022286</td>\n",
       "      <td>21.334948</td>\n",
       "      <td>0.45</td>\n",
       "    </tr>\n",
       "    <tr>\n",
       "      <th>4</th>\n",
       "      <td>30.601111</td>\n",
       "      <td>-6.338650</td>\n",
       "      <td>21.660045</td>\n",
       "      <td>20.812223</td>\n",
       "      <td>20.383688</td>\n",
       "      <td>0.32</td>\n",
       "    </tr>\n",
       "  </tbody>\n",
       "</table>\n",
       "</div>"
      ],
      "text/plain": [
       "          ra       dec          z      col_3      col_4  col_5\n",
       "0  30.611735 -6.356909  23.901826  23.043298  22.649281   0.50\n",
       "1  30.610781 -6.350381  22.385773  21.548382  21.272576   0.38\n",
       "2  30.596478 -6.346152  23.948118  23.121471  22.773187   0.37\n",
       "3  30.592680 -6.344521  23.427314  22.022286  21.334948   0.45\n",
       "4  30.601111 -6.338650  21.660045  20.812223  20.383688   0.32"
      ]
     },
     "execution_count": 12,
     "metadata": {},
     "output_type": "execute_result"
    }
   ],
   "source": [
    "df.head()"
   ]
  },
  {
   "cell_type": "markdown",
   "metadata": {},
   "source": [
    "\\# select required columns only"
   ]
  },
  {
   "cell_type": "code",
   "execution_count": 13,
   "metadata": {},
   "outputs": [],
   "source": [
    "# df = pd.read_csv(f\"/home/idies/workspace/Storage/navin/persistent/demo_objects.csv\", sep=',', usecols=[0,1,2])\n",
    "df = pd.read_csv(f\"demo_objects.csv\", sep=',', usecols=[0,1,2])"
   ]
  },
  {
   "cell_type": "code",
   "execution_count": 14,
   "metadata": {
    "scrolled": true
   },
   "outputs": [
    {
     "data": {
      "text/html": [
       "<div>\n",
       "<style scoped>\n",
       "    .dataframe tbody tr th:only-of-type {\n",
       "        vertical-align: middle;\n",
       "    }\n",
       "\n",
       "    .dataframe tbody tr th {\n",
       "        vertical-align: top;\n",
       "    }\n",
       "\n",
       "    .dataframe thead th {\n",
       "        text-align: right;\n",
       "    }\n",
       "</style>\n",
       "<table border=\"1\" class=\"dataframe\">\n",
       "  <thead>\n",
       "    <tr style=\"text-align: right;\">\n",
       "      <th></th>\n",
       "      <th>ra</th>\n",
       "      <th>dec</th>\n",
       "      <th>z</th>\n",
       "    </tr>\n",
       "  </thead>\n",
       "  <tbody>\n",
       "    <tr>\n",
       "      <th>0</th>\n",
       "      <td>30.611735</td>\n",
       "      <td>-6.356909</td>\n",
       "      <td>23.901826</td>\n",
       "    </tr>\n",
       "    <tr>\n",
       "      <th>1</th>\n",
       "      <td>30.610781</td>\n",
       "      <td>-6.350381</td>\n",
       "      <td>22.385773</td>\n",
       "    </tr>\n",
       "    <tr>\n",
       "      <th>2</th>\n",
       "      <td>30.596478</td>\n",
       "      <td>-6.346152</td>\n",
       "      <td>23.948118</td>\n",
       "    </tr>\n",
       "    <tr>\n",
       "      <th>3</th>\n",
       "      <td>30.592680</td>\n",
       "      <td>-6.344521</td>\n",
       "      <td>23.427314</td>\n",
       "    </tr>\n",
       "    <tr>\n",
       "      <th>4</th>\n",
       "      <td>30.601111</td>\n",
       "      <td>-6.338650</td>\n",
       "      <td>21.660045</td>\n",
       "    </tr>\n",
       "  </tbody>\n",
       "</table>\n",
       "</div>"
      ],
      "text/plain": [
       "          ra       dec          z\n",
       "0  30.611735 -6.356909  23.901826\n",
       "1  30.610781 -6.350381  22.385773\n",
       "2  30.596478 -6.346152  23.948118\n",
       "3  30.592680 -6.344521  23.427314\n",
       "4  30.601111 -6.338650  21.660045"
      ]
     },
     "execution_count": 14,
     "metadata": {},
     "output_type": "execute_result"
    }
   ],
   "source": [
    "df.head()"
   ]
  },
  {
   "cell_type": "markdown",
   "metadata": {},
   "source": [
    "### Visualising the coordinate space of input data"
   ]
  },
  {
   "cell_type": "markdown",
   "metadata": {},
   "source": [
    "<div class=\"alert alert-info\">\n",
    "\n",
    "Exercise: \n",
    "    \n",
    "- write a python code to plot dec(on Y-axis) vs ra(on X-axis) of the objects passed in the dataFrame.\n",
    "\n",
    "    This plot will look very dense, so in order to visually see the points distributed on the (ra,dec) plane, downsample the number of points by 100 and again plot.\n",
    "- In order to downsample the points, use `numpy.random.choise()` function.\n",
    "\n",
    "</div>"
   ]
  },
  {
   "cell_type": "code",
   "execution_count": 15,
   "metadata": {},
   "outputs": [
    {
     "data": {
      "image/png": "[encoded data removed]",
      "text/plain": [
       "<Figure size 1400x600 with 2 Axes>"
      ]
     },
     "metadata": {},
     "output_type": "display_data"
    }
   ],
   "source": [
    "fig,ax = plt.subplots(1,2, figsize=(14,6))\n",
    "ax1,ax2 = ax\n",
    "\n",
    "#plot all the coordinates   \n",
    "ax1.scatter(df.ra.values,df.dec.values, s=2)\n",
    "ax1.set_xlabel(\"ra (deg)\", fontsize=14)\n",
    "ax1.set_ylabel(\"dec (deg)\", fontsize=14)\n",
    "\n",
    "ax1.set_title(\"Plot looks too dense.\")\n",
    "\n",
    "#Randomly picking up points to reduce the density of points\n",
    "Number_of_points = df.ra.size\n",
    "down_sample_by = 100\n",
    "random_indices = np.random.choice(np.arange(Number_of_points), \n",
    "                                  size=int(Number_of_points/down_sample_by), \n",
    "                                  replace=False)\n",
    "#plot down sampled number coordinates\n",
    "ax2.scatter(df.ra.values[random_indices], df.dec.values[random_indices], s=2)\n",
    "ax2.set_xlabel(\"ra (deg)\", fontsize=14)\n",
    "ax2.set_ylabel(\"dec (deg)\", fontsize=14)\n",
    "ax2.set_title(\"Density of points reduced by %d.\"%down_sample_by)\n",
    "\n",
    "plt.show()"
   ]
  },
  {
   "cell_type": "markdown",
   "metadata": {},
   "source": [
    "### `On-sky distance` between two points on the surface of a unit sphere"
   ]
  },
  {
   "cell_type": "markdown",
   "metadata": {},
   "source": [
    "$\\cos(\\theta)=\\frac{\\vec{r_1}\\cdot\\vec{r_2}}{r_1 r_2}$ <br>\n",
    "\n",
    "set $r_1=r_2=1$ \n",
    "\n",
    "get $\\theta$\n",
    "\n",
    "Using: $\\mathrm{arc\\_distance}=s=r \\times \\theta$, obtain the distance between the two ra,dec values.\n",
    "\n",
    "Since $r_1=r_2=1$, \n",
    "\n",
    "$\\Rightarrow s=\\theta$ (radians)"
   ]
  },
  {
   "cell_type": "markdown",
   "metadata": {},
   "source": [
    "<div class=\"alert alert-info\">\n",
    "\n",
    "Exercise: Using the above formula\n",
    "\n",
    "- Implement a function which takes tuples of (ra,dec) of two objects and returns the distance between them on the Unit sphere.\n",
    "\n",
    "    Your code should return the result in units of arc seconds and **NOT** in radians.\n",
    "\n",
    "</div>"
   ]
  },
  {
   "cell_type": "code",
   "execution_count": 16,
   "metadata": {},
   "outputs": [],
   "source": [
    "rad_to_arcsec = 180.0*3600./np.pi\n",
    "arcsec_to_rad = 1/rad_to_arcsec\n",
    "\n",
    "def dist_betw_two_obj(obj1,obj2):\n",
    "    ra1,dec1 = obj1\n",
    "    ra2,dec2 = obj2\n",
    "    arg = np.cos(np.deg2rad(dec2))* np.cos(np.deg2rad(dec1))* np.cos(np.deg2rad(ra1) - np.deg2rad(ra2)) + np.sin(np.deg2rad(dec1))* np.sin(np.deg2rad(dec2))\n",
    "    if arg>1.0:\n",
    "        #the problematic ones which are being set to 1.0 are different from 1.0 at a decimal point which is beyond the precision level supported by the ra,dec's themselves. \n",
    "        arg = 1.0\n",
    "    dist = np.arccos(arg)* rad_to_arcsec\n",
    "    return dist\n"
   ]
  },
  {
   "cell_type": "markdown",
   "metadata": {},
   "source": [
    "\\# Running and testing the distance computation code:"
   ]
  },
  {
   "cell_type": "code",
   "execution_count": 17,
   "metadata": {},
   "outputs": [],
   "source": [
    "# creating tuple of values from ra,dec of each object\n",
    "coords = list( zip(df.ra.values,df.dec.values))\n",
    "# print(coords[0])"
   ]
  },
  {
   "cell_type": "code",
   "execution_count": 32,
   "metadata": {},
   "outputs": [
    {
     "name": "stdout",
     "output_type": "stream",
     "text": [
      "obj1 0: [30.61173478 -6.3569092 ]\n",
      "obj2 1: [30.61078116 -6.35038136]\n",
      "distance: 23.7466131834144 arcsec\n"
     ]
    }
   ],
   "source": [
    "print( f\"\"\"obj1 0: {coords[0]}\n",
    "obj2 1: {coords[1]}\n",
    "distance: {dist_betw_two_obj(coords[0],coords[1])} arcsec\"\"\") "
   ]
  },
  {
   "cell_type": "markdown",
   "metadata": {},
   "source": [
    "### Brute force search for neighbour objects within a specified distance \n",
    "time complexity ~ $\\mathcal{O}(n^2)$ "
   ]
  },
  {
   "cell_type": "markdown",
   "metadata": {},
   "source": [
    "<div class=\"alert alert-info\">\n",
    "\n",
    "Exercise: \n",
    "\n",
    "- write a function `find_neighbour_points` that uses (ra,dec) coordinates of an object, and within some given `rmax` distance, finds its neighbour points in the given dataFrame catalog.\n",
    "\n",
    "- Using this code you should be able to find neighbours of each object in the dataFrame - within the same dataFrame.\n",
    "    \n",
    "    Say the $1^{st}$ object in the dataFrame has 5 objects within say rmax=15 arcsec, then you should be able to  print/store the `indices` and `distances` of these neighbours.\n",
    "    \n",
    "</div>    "
   ]
  },
  {
   "cell_type": "code",
   "execution_count": 19,
   "metadata": {},
   "outputs": [],
   "source": [
    "from collections import defaultdict\n",
    "\n",
    "def find_neighbour_points(coords, rmax=10, verbose=True):\n",
    "    \"\"\"\n",
    "    finding neighbour objects within some distance, for all the objects in a given array of coordinates.\n",
    "    \n",
    "    coords: an array/list of tuples (ra,dec)\n",
    "    \n",
    "    Returns:\n",
    "    `nnids`: indices into `coords` of neighbours of each object in `coords` within `rmax`\n",
    "    `distances`: distance of objects matched in `nnids\"\"\"\n",
    "\n",
    "    # define containers for the distance and id information of matched objects\n",
    "    distances = defaultdict(list)\n",
    "    nnids = defaultdict(list)\n",
    "\n",
    "    c=0\n",
    "    for ii,obj1 in enumerate(coords):\n",
    "        c+=1\n",
    "        d=0\n",
    "        for jj,obj2 in enumerate(coords):\n",
    "            if jj==ii:\n",
    "                continue\n",
    "            d+=1\n",
    "            dist = dist_betw_two_obj(obj1,obj2)\n",
    "            if dist <= rmax:\n",
    "                nnids[ii].append(jj)\n",
    "                distances[ii].append(dist)\n",
    "        if verbose:\n",
    "            print(ii,nnids[ii],distances[ii])                \n",
    "    return nnids,distances\n",
    "\n",
    "def query_neighbour_points(coords1, coords2, rmax=10):\n",
    "    \"\"\"\n",
    "    coords1: a tuple or an array/list of tuples (ra,dec)\n",
    "    coords2: an array/list of tuples (ra,dec)\n",
    "    \n",
    "    Returns:\n",
    "    `nnids`: indices into `coords2` of neighbours of each object `coords1` within `rmax`.\n",
    "    `distances`: distance of objects matched in `nnids`\"\"\"\n",
    "\n",
    "    coords1 = np.atleast_2d(coords1)\n",
    "    \n",
    "    # define containers for the distance and id information of matched objects\n",
    "    distances = defaultdict(list)\n",
    "    nnids = defaultdict(list)\n",
    "\n",
    "    for ii,obj1 in enumerate(coords1):\n",
    "        for jj,obj2 in enumerate(coords2):\n",
    "            dist = dist_betw_two_obj(obj1,obj2)\n",
    "            if dist <= rmax:\n",
    "                nnids[ii].append(jj)\n",
    "                distances[ii].append(dist)\n",
    "        print(ii,nnids[ii],distances[ii])                \n",
    "    return nnids,distances"
   ]
  },
  {
   "cell_type": "markdown",
   "metadata": {},
   "source": [
    "#### Testing the above function `find_neighbour_points`  (brute force search)"
   ]
  },
  {
   "cell_type": "markdown",
   "metadata": {},
   "source": [
    "<div class=\"alert alert-info\">\n",
    "\n",
    "Exercise: \n",
    "\n",
    "- Using the first 50 objects in the catalog, Search for their neighbours within a ball of radius `rmax`, say for `rmax`(default value)=15 arcsec.\n",
    "\n",
    "    **Note:** We're only using 50 points in order to reduce the compute time, but the code has no such limitation. If you run your code for a large number of points, it will take more time to finish that's all.\n",
    "    \n",
    "    \n",
    "- Access the above result and print indices,distances and coordinates of the neighbours of few objects.\n",
    "    \n",
    "</div>"
   ]
  },
  {
   "cell_type": "code",
   "execution_count": 20,
   "metadata": {
    "scrolled": true
   },
   "outputs": [
    {
     "name": "stdout",
     "output_type": "stream",
     "text": [
      "object index, neighbours indices list, neighbours distances list \n",
      "0 [] []\n",
      "1 [] []\n",
      "2 [3] [14.802299176580224]\n",
      "3 [2] [14.802299176580224]\n",
      "4 [36] [13.682331312465545]\n",
      "5 [] []\n",
      "6 [] []\n",
      "7 [] []\n",
      "8 [13] [9.465537930627812]\n",
      "9 [10, 12, 38] [10.94680374083333, 5.876628853240463, 14.594679725290598]\n",
      "10 [9, 12] [10.94680374083333, 10.280601486171243]\n",
      "11 [42] [7.151725370768233]\n",
      "12 [9, 10, 14] [5.876628853240463, 10.280601486171243, 11.314136132011965]\n",
      "13 [8] [9.465537930627812]\n",
      "14 [12, 15, 16] [11.314136132011965, 5.475958296970058, 11.765854084075805]\n",
      "15 [14, 16, 44] [5.475958296970058, 13.47975484115049, 10.276694006812336]\n",
      "16 [14, 15] [11.765854084075805, 13.47975484115049]\n",
      "17 [46] [6.898087849306218]\n",
      "18 [] []\n",
      "19 [] []\n",
      "20 [] []\n",
      "21 [] []\n",
      "22 [] []\n",
      "23 [] []\n",
      "24 [] []\n",
      "25 [26] [13.29908354885402]\n",
      "26 [25] [13.29908354885402]\n",
      "27 [] []\n",
      "28 [] []\n",
      "29 [30] [3.6918325238285883]\n",
      "30 [29] [3.6918325238285883]\n",
      "31 [] []\n",
      "32 [] []\n",
      "33 [] []\n",
      "34 [] []\n",
      "35 [36] [10.896870606370635]\n",
      "36 [4, 35] [13.682331312465545, 10.896870606370635]\n",
      "37 [] []\n",
      "38 [9, 40] [14.594679725290598, 14.719522078343205]\n",
      "39 [40] [1.984703189527645]\n",
      "40 [38, 39] [14.719522078343205, 1.984703189527645]\n",
      "41 [] []\n",
      "42 [11] [7.151725370768233]\n",
      "43 [] []\n",
      "44 [15] [10.276694006812336]\n",
      "45 [] []\n",
      "46 [17] [6.898087849306218]\n",
      "47 [] []\n",
      "48 [] []\n",
      "49 [] []\n",
      "CPU times: user 35 ms, sys: 522 µs, total: 35.5 ms\n",
      "Wall time: 31.3 ms\n"
     ]
    }
   ],
   "source": [
    "print(\"object index, neighbours indices list, neighbours distances list \")\n",
    "\n",
    "# from time import time \n",
    "# t=time()\n",
    "# nnids,distances = find_neighbour_points(coords[:100],rmax=15)\n",
    "# print(f\"total time taken to run = {time()-t}\")\n",
    "\n",
    "\n",
    "%time nnids,distances = find_neighbour_points(coords[:50],rmax=15)"
   ]
  },
  {
   "cell_type": "code",
   "execution_count": 21,
   "metadata": {},
   "outputs": [
    {
     "name": "stdout",
     "output_type": "stream",
     "text": [
      "Accessing the neighbour points for the 15th object using the output \n",
      "of our brute force method:\n",
      "neighbours: [14, 16, 44] \n",
      "distances: [5.475958296970058, 13.47975484115049, 10.276694006812336]\n",
      "\n",
      "Accessing the neighbour coordinates of the 15th object:\n",
      "14 (30.564297942270603, -6.322030429805476)\n",
      "16 (30.56234780563957, -6.319398928221537)\n",
      "44 (30.568297869918087, -6.3202347701814166)\n"
     ]
    }
   ],
   "source": [
    "nth = 15\n",
    "print(f\"\"\"Accessing the neighbour points for the {nth}th object using the output \n",
    "of our brute force method:\"\"\")\n",
    "\n",
    "print(f\"neighbours: {nnids[nth]} \\ndistances: {distances[nth]}\")\n",
    "\n",
    "print()\n",
    "\n",
    "print(f\"Accessing the neighbour coordinates of the {nth}th object:\")\n",
    "for ii in nnids[nth]:\n",
    "    print(ii, coords[ii])"
   ]
  },
  {
   "cell_type": "markdown",
   "metadata": {},
   "source": [
    "---\n",
    "\n",
    "#### A visual sanity check for execution of `find_neighbour_points`  function"
   ]
  },
  {
   "cell_type": "markdown",
   "metadata": {},
   "source": [
    "<div class=\"alert alert-info\">\n",
    "\n",
    "Exercise:\n",
    "\n",
    "- Plot the coordinates of the neighbours of any one test point. This exercise can help us visually inspect whether our neighbour search code gave us reasonable results or not.\n",
    "\n",
    "\n",
    "- Along with plotting, also print the distances of each of these neighbours and visually confirm that the nearest looking object on the plot indead has the smallest distance from the test point, and similarly check for other neighbour points.\n",
    "    \n",
    "</div>"
   ]
  },
  {
   "cell_type": "markdown",
   "metadata": {},
   "source": [
    "I'm plotting the neighbours of $15^{th}$ point from the catalog.<br>\n",
    "And also printing their `indices` and `distances` to compare the stored distances by eye!\n",
    "\n",
    "Point marked as $\\star$ is the $15^{th}$ point. Other points are its neighbours."
   ]
  },
  {
   "cell_type": "code",
   "execution_count": 22,
   "metadata": {},
   "outputs": [
    {
     "name": "stdout",
     "output_type": "stream",
     "text": [
      "index--> distance\t\tcolor\n",
      "14 ---> 5.475958296970058 \t r\n",
      "16 ---> 13.47975484115049 \t g\n",
      "44 ---> 10.276694006812336 \t b\n"
     ]
    }
   ],
   "source": [
    "demoid = 15\n",
    "\n",
    "plt.figure(figsize=(8,6))\n",
    "#plot demo point\n",
    "demora,demodec  = coords[demoid] \n",
    "plt.scatter(demora,demodec, c='black', s=100, marker=r'*')\n",
    "\n",
    "#access all the neighbours\n",
    "coords=np.array(coords)\n",
    "neighbours = nnids[demoid]\n",
    "\n",
    "#choose colors for a given number of neighbours\n",
    "colors = ['r','g','b']\n",
    "# colors = np.random.random( size=(len(neighbours),3) )\n",
    "\n",
    "#plot all the neighbour points\n",
    "plotra  = [coord[0] for coord in coords[neighbours] ]\n",
    "plotdec = [coord[1] for coord in coords[neighbours] ] \n",
    "plt.scatter(plotra, plotdec, c=colors, s=50, marker='o')\n",
    "\n",
    "for i in range(len(plotra)):\n",
    "    plt.plot([demora,plotra[i]],[demodec,plotdec[i]] , c=colors[i])\n",
    "\n",
    "plt.xlabel(\"ra (deg)\", fontsize=16)\n",
    "plt.ylabel(\"dec (deg)\", fontsize=16)\n",
    "# plt.show()\n",
    "plt.savefig(\"neighbours_of_15th_obj.png\",bbox_inches=\"tight\")\n",
    "\n",
    "# Now visuall compare the distances\n",
    "print(\"index--> distance\\t\\tcolor\")\n",
    "ndist = distances[demoid]\n",
    "for nidx,dist,c in zip(neighbours,ndist,colors):\n",
    "    print(nidx,\"--->\",dist, '\\t', c)"
   ]
  },
  {
   "cell_type": "markdown",
   "metadata": {},
   "source": [
    "---"
   ]
  },
  {
   "cell_type": "markdown",
   "metadata": {},
   "source": [
    "### Using k-d tree algorithm to query the neighbour points within a given distance \n",
    "time complexity ~ $\\mathcal{O}(n\\log{}n)$ "
   ]
  },
  {
   "cell_type": "markdown",
   "metadata": {},
   "source": [
    "#### We'll use the `spatial.cKDTree` package from `scipy`.\n",
    "\n",
    "If you have many points whose neighbors you want to find, you may save substantial amounts of time by putting them in a `cKDTree` and using functions defined on this tree. For example: `query_ball_point`"
   ]
  },
  {
   "cell_type": "code",
   "execution_count": 26,
   "metadata": {},
   "outputs": [],
   "source": [
    "from scipy import spatial\n",
    "sin = np.sin\n",
    "cos = np.cos\n",
    "deg2rad = np.deg2rad"
   ]
  },
  {
   "cell_type": "markdown",
   "metadata": {},
   "source": [
    "<div class=\"alert alert-info\">\n",
    "\n",
    "Exercise:\n",
    "    \n",
    "- Write a code using cKDTree to find out the neighbours of a given `set1` of objects (coordinates) from a catalog of other `set2` objects.\n",
    "    \n",
    "    Write this code in a `class structure` where it takes-in arrays of `ra,dec` of the catalog objects (set2) and \n",
    "    - converts (ra,dec) to (x,y,z) of cartesian coordinates,\n",
    "    - creates k-d tree of the `set2` catalog objects using (x,y,z),\n",
    "    - queries for the neighbour points of - each object in the `set1`, and returns the indices in `set2`.\n",
    "\n",
    "</div>"
   ]
  },
  {
   "cell_type": "code",
   "execution_count": 27,
   "metadata": {},
   "outputs": [],
   "source": [
    "class find_neighbours:\n",
    "    def __init__(self, tra=None, tdec=None, r=1):\n",
    "        \"\"\"r==1 --> unit sphere calculations\"\"\"\n",
    "        self.tra = tra\n",
    "        self.tdec= tdec\n",
    "        self.r = r\n",
    "        self.rad_to_arcsec = 180.0*3600./np.pi\n",
    "        self.arcsec_to_rad = 1/self.rad_to_arcsec\n",
    "        \n",
    "        print(f\"Initializing with sphere of radius, r={r}.\")\n",
    "        \n",
    "    # write a function that converts ra,dec to cartesian components.\n",
    "    def RA_DEC_to_xyz(self, ra,dec, units='deg'):\n",
    "        \"\"\"converts ra,dec to cartesian x,y,z components on a unit sphere\"\"\"\n",
    "        if units==\"deg\":\n",
    "            ra = deg2rad(ra)\n",
    "            dec= deg2rad(dec)\n",
    "            \n",
    "        x = self.r *cos(dec) *cos(ra)\n",
    "        y = self.r *cos(dec) *sin(ra)\n",
    "        z = self.r *sin(dec)\n",
    "        return x,y,z \n",
    "\n",
    "    # write a function `create_tree` that takes arrays of ra,dec \n",
    "    # values as inputs and returns a cKDTree object into these coordinates.\n",
    "    \n",
    "    def create_tree(self):\n",
    "        # create an array of tuples of x,y,z\n",
    "        x,y,z = self.RA_DEC_to_xyz(self.tra,self.tdec)\n",
    "        # make a tree using cKDTree method \n",
    "        tree = spatial.cKDTree(np.c_[x,y,z])\n",
    "        return tree\n",
    "\n",
    "    # write a function that takes arrays of ra,dec coordinates\n",
    "    # and returns the neighbour object's indices from the tree \n",
    "    # within some distance `rmax` arcsec .\n",
    "    \n",
    "    def query_within_rmax(self, ra, dec, rmax=15, units=\"deg\"):\n",
    "        print(f\"Searching for {ra.size} number of objects in the catalog with rmax={rmax} arcsec.\")\n",
    "        #convert rmax from arcsec to distance units\n",
    "        rmax = self.r *rmax *self.arcsec_to_rad \n",
    "        \n",
    "        # array of tuples of x,y,z of input objetcs\n",
    "        x,y,z = self.RA_DEC_to_xyz(ra,dec)\n",
    "        cartesian_coords = np.c_[x,y,z]\n",
    "\n",
    "        # make tree from catalog\n",
    "        tree = self.create_tree()\n",
    "        \n",
    "        # look for the neighbour objects\n",
    "        ids_into_tree = tree.query_ball_point(cartesian_coords,rmax)\n",
    "        \n",
    "        return ids_into_tree"
   ]
  },
  {
   "cell_type": "markdown",
   "metadata": {},
   "source": [
    "#### A sanity check\n",
    "\n",
    "Testing conversion of (ra,dec) to (x,y,z) "
   ]
  },
  {
   "cell_type": "code",
   "execution_count": 28,
   "metadata": {
    "scrolled": true
   },
   "outputs": [
    {
     "name": "stdout",
     "output_type": "stream",
     "text": [
      "Initializing with sphere of radius, r=1.\n",
      "shapes of x,y,z arrays: (220622,) (220622,) (220622,)\n",
      "shapes of (x,y,z) tuple array: (220622, 3)\n"
     ]
    },
    {
     "data": {
      "text/plain": [
       "array([[ 0.8553461 ,  0.50608675, -0.11072151],\n",
       "       [ 0.85536537,  0.50607894, -0.11060828],\n",
       "       [ 0.85549871,  0.50586954, -0.11053492],\n",
       "       ...,\n",
       "       [ 0.78796508,  0.6142163 , -0.04300421],\n",
       "       [ 0.78737094,  0.61497898, -0.04298683],\n",
       "       [ 0.78774839,  0.61449982, -0.04292369]])"
      ]
     },
     "execution_count": 28,
     "metadata": {},
     "output_type": "execute_result"
    }
   ],
   "source": [
    "code = find_neighbours()\n",
    "\n",
    "# a look at the cartesian coordinates\n",
    "x,y,z = code.RA_DEC_to_xyz(coords[:,0], coords[:,1])\n",
    "cartesian_coords = np.c_[x,y,z]\n",
    "\n",
    "print(\"shapes of x,y,z arrays:\",x.shape,y.shape,z.shape)\n",
    "print(\"shapes of (x,y,z) tuple array:\", cartesian_coords.shape)\n",
    "#field on objects looks close to equator\n",
    "cartesian_coords"
   ]
  },
  {
   "cell_type": "markdown",
   "metadata": {},
   "source": [
    "#### Compare the output of our brute force algorithm with cKDTree algorithm on dew Demo objects"
   ]
  },
  {
   "cell_type": "markdown",
   "metadata": {},
   "source": [
    "<div class=\"alert alert-info\">\n",
    "\n",
    "Exercise:\n",
    "\n",
    "- Take the same bunch of objects for which we already have run our brute force search method, \n",
    "\n",
    "    feed them into the wrapper code of k-d tree written above, \n",
    "    \n",
    "    find out their neighbour points within the same `rmax`(default value)=15 arcsec.\n",
    "\n",
    "\n",
    "</div>"
   ]
  },
  {
   "cell_type": "code",
   "execution_count": 29,
   "metadata": {},
   "outputs": [
    {
     "name": "stdout",
     "output_type": "stream",
     "text": [
      "I had chosen following indices from set2(catalog) as my test objects: [15]\n",
      "coordinate of test objects: [[ 0.85581232  0.50543305 -0.11010311]]\n"
     ]
    }
   ],
   "source": [
    "demo_ids = [15] #9,15\n",
    "demo_ra =coords[demo_ids,0] #deg\n",
    "demo_dec=coords[demo_ids,1] #deg\n",
    "\n",
    "demox, demoy, demoz = code.RA_DEC_to_xyz(demo_ra, demo_dec)\n",
    "demoobj = np.c_[demox,demoy,demoz]\n",
    "print(\"\"\"I had chosen following indices from set2(catalog) as my test objects:\"\"\",demo_ids)\n",
    "print(\"coordinate of test objects:\",demoobj)\n",
    "\n",
    "# we want to look within `rmax` arcsec --> convert `rmax` from (arcsec) angle to length units\n",
    "\n",
    "# rmax = 15 \n",
    "# print()\n",
    "# print(f\"rmax={rmax} arcsec in radians --->\",rmax* arcsec_to_rad)"
   ]
  },
  {
   "cell_type": "markdown",
   "metadata": {},
   "source": [
    "\\# Initialize class and set up the tree"
   ]
  },
  {
   "cell_type": "code",
   "execution_count": 20,
   "metadata": {},
   "outputs": [
    {
     "name": "stdout",
     "output_type": "stream",
     "text": [
      "Initializing with sphere of radius, r=1.\n"
     ]
    }
   ],
   "source": [
    "code_tree = find_neighbours(tra=coords[:,0], tdec=coords[:,1])"
   ]
  },
  {
   "cell_type": "markdown",
   "metadata": {},
   "source": [
    "\\# Query the neighbours of demo objects "
   ]
  },
  {
   "cell_type": "code",
   "execution_count": 21,
   "metadata": {},
   "outputs": [
    {
     "name": "stdout",
     "output_type": "stream",
     "text": [
      "Searching for 1 number of objects in the catalog with rmax=15 arcsec.\n"
     ]
    }
   ],
   "source": [
    "idx=code_tree.query_within_rmax(demo_ra, demo_dec)"
   ]
  },
  {
   "cell_type": "markdown",
   "metadata": {},
   "source": [
    "\\# Go back to brute force output and compare this result.... does it match? "
   ]
  },
  {
   "cell_type": "code",
   "execution_count": 22,
   "metadata": {},
   "outputs": [
    {
     "data": {
      "text/plain": [
       "array([list([14, 15, 16, 44])], dtype=object)"
      ]
     },
     "execution_count": 22,
     "metadata": {},
     "output_type": "execute_result"
    }
   ],
   "source": [
    "idx"
   ]
  },
  {
   "cell_type": "markdown",
   "metadata": {},
   "source": [
    "### Compare the computer time required by our brute force algorithm vs the k-d tree algorithm "
   ]
  },
  {
   "cell_type": "markdown",
   "metadata": {},
   "source": [
    "First let's use k-d tree to query neighbours within `rmax`=15 arcsec for each object within the catalog."
   ]
  },
  {
   "cell_type": "code",
   "execution_count": 23,
   "metadata": {},
   "outputs": [
    {
     "name": "stdout",
     "output_type": "stream",
     "text": [
      "Searching for 220622 number of objects in the catalog with rmax=15 arcsec.\n",
      "CPU times: user 1.65 s, sys: 36.3 ms, total: 1.69 s\n",
      "Wall time: 1.12 s\n"
     ]
    }
   ],
   "source": [
    "%time idx=code_tree.query_within_rmax(coords[:,0], coords[:,1])"
   ]
  },
  {
   "cell_type": "markdown",
   "metadata": {},
   "source": [
    "Reminder: full catalog has about 2,20,000 objects... and k-d tree found neighbours for each one of them in 1-2 seconds.\n",
    "\n",
    "Now let's use the brute force method only for 1000 objects."
   ]
  },
  {
   "cell_type": "code",
   "execution_count": 24,
   "metadata": {
    "scrolled": true
   },
   "outputs": [
    {
     "name": "stdout",
     "output_type": "stream",
     "text": [
      "CPU times: user 20.9 s, sys: 224 ms, total: 21.1 s\n",
      "Wall time: 21.2 s\n"
     ]
    }
   ],
   "source": [
    "%time nnids,distances = find_neighbour_points(coords[:1000],rmax=15, verbose=False)"
   ]
  },
  {
   "cell_type": "markdown",
   "metadata": {},
   "source": [
    "### Congratulations! Now you have learnt to - \n",
    "\n",
    "- use `cKDTree` to find out neighbours of a given `set1` of objects into some other `set2` of objects.\n",
    "\n",
    "- count the number of neighbours of any given object in `set1`. \n",
    "\n",
    "- access the results of cKDTree and identify neighbours of each obejct in `set1` into the `set2`.\n",
    "\n",
    "- access the coordinates and distances of each neighbour of every point in `set1`."
   ]
  }
 ],
 "metadata": {
  "kernelspec": {
   "display_name": "Python 3",
   "language": "python",
   "name": "python3"
  },
  "language_info": {
   "codemirror_mode": {
    "name": "ipython",
    "version": 3
   },
   "file_extension": ".py",
   "mimetype": "text/x-python",
   "name": "python",
   "nbconvert_exporter": "python",
   "pygments_lexer": "ipython3",
   "version": "3.7.10"
  }
 },
 "nbformat": 4,
 "nbformat_minor": 4
}
