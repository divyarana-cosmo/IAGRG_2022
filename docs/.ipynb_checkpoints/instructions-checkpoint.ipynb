{
 "cells": [
  {
   "cell_type": "markdown",
   "metadata": {},
   "source": [
    "# Day 1 - Introduction"
   ]
  },
  {
   "cell_type": "markdown",
   "metadata": {},
   "source": [
    "These notes aim to supplement the content covered in the Lectures on Weak Lensing by Prof Surhud More. It will help the readers to understand the tutorial sessions in a better manner. The primary aim is to give the readers a way to write their weak lensing signal computation pipelines.\n",
    "\n",
    "We will start these tutorial sessions with a quick introduction to the SciServer, which will provide us with the appropriate python environment and the data for these sessions. Then we will cover some basic python programming which is useful in the tutorials. We will then cover each part of the pipeline in step by step process. At present, the notes are created to cover the content in 3 days, but the exact structure for the tutorial sessions will depend on the progress of these sessions.\n",
    "\n",
    "The tutors for these sessions are :\n",
    "\n",
    "- Divya Rana, divyar@iucaa.in\n",
    "\n",
    "- Navin Chaurasiya, navin@iucaa.in\n",
    "\n",
    "A quick reference for weak  gravitational lensing is:\n",
    "\n",
    "- Saas-Fee Advanced Course 33: Gravitational Lensing: Strong, Weak & Micro,  https://link.springer.com/book/10.1007/978-3-540-30310-7\n",
    "\n",
    "- Also the arxiv version,  https://arxiv.org/abs/astro-ph/0509252"
   ]
  },
  {
   "cell_type": "markdown",
   "metadata": {},
   "source": [
    "## Working on SciServer"
   ]
  },
  {
   "cell_type": "markdown",
   "metadata": {},
   "source": [
    "blah blah"
   ]
  },
  {
   "cell_type": "markdown",
   "metadata": {},
   "source": [
    "## Reading and Plotting the Data"
   ]
  },
  {
   "cell_type": "markdown",
   "metadata": {},
   "source": [
    "We will first learn how to read files using pandas and then we will plot them to have a feel of the overlap between the lenses and sources. \n",
    "\n",
    "- pandas, https://pandas.pydata.org/docs/reference/api/pandas.read_csv.html\n",
    "\n",
    "- numpy, https://numpy.org/doc/stable/\n",
    "\n",
    "- matplotlib,  https://matplotlib.org/"
   ]
  },
  {
   "cell_type": "code",
   "execution_count": 4,
   "metadata": {},
   "outputs": [],
   "source": [
    "%matplotlib inline\n",
    "import pandas as pd\n",
    "import numpy as np\n",
    "import matplotlib.pyplot as plt"
   ]
  },
  {
   "cell_type": "code",
   "execution_count": 7,
   "metadata": {},
   "outputs": [],
   "source": [
    "#dat = pd.read_csv('path to the files', delim_whitespace=1)\n",
    "#dat.keys()\n"
   ]
  },
  {
   "cell_type": "code",
   "execution_count": 5,
   "metadata": {},
   "outputs": [
    {
     "data": {
      "text/plain": [
       "[<matplotlib.lines.Line2D at 0x7f49d9c06ac8>]"
      ]
     },
     "execution_count": 5,
     "metadata": {},
     "output_type": "execute_result"
    },
    {
     "data": {
      "image/png": "[encoded data removed]",
      "text/plain": [
       "<Figure size 432x288 with 1 Axes>"
      ]
     },
     "metadata": {
      "needs_background": "light"
     },
     "output_type": "display_data"
    }
   ],
   "source": [
    "x = np.linspace(0,2*np.pi,100)\n",
    "plt.plot(x,np.sin(x))"
   ]
  },
  {
   "cell_type": "markdown",
   "metadata": {},
   "source": [
    "We will also get the rough  estimation of overlap area between the sources and lens using the python package healpy.\n",
    "\n",
    "- healpy, https://healpy.readthedocs.io/en/latest/"
   ]
  },
  {
   "cell_type": "code",
   "execution_count": null,
   "metadata": {},
   "outputs": [],
   "source": [
    "#import healpy as hp\n",
    "#nside = 512\n",
    "#ipix = hp.ang2pix(nside, ra, dec, lonlat=1)"
   ]
  }
 ],
 "metadata": {
  "kernelspec": {
   "display_name": "Python 3",
   "language": "python",
   "name": "python3"
  },
  "language_info": {
   "codemirror_mode": {
    "name": "ipython",
    "version": 3
   },
   "file_extension": ".py",
   "mimetype": "text/x-python",
   "name": "python",
   "nbconvert_exporter": "python",
   "pygments_lexer": "ipython3",
   "version": "3.7.3"
  }
 },
 "nbformat": 4,
 "nbformat_minor": 4
}
