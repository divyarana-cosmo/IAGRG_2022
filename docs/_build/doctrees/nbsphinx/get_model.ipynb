{
 "cells": [
  {
   "cell_type": "markdown",
   "metadata": {},
   "source": [
    "# Day 4 - Model the weak lensing signal"
   ]
  },
  {
   "cell_type": "markdown",
   "metadata": {},
   "source": [
    "This session assumes that you have your own weak lensing signal in order to model them. We understand coding up the lensing measurement part(Day 3 tutorial) is quite tedious. So in case if you don't have the signal from yesterday's session, we will provide you the output file for modelling and getting the halo mass constraits out of it. Similar to day 3 tutorial, the reader has to fill in the blanks(??) in the code snippets.  "
   ]
  },
  {
   "cell_type": "markdown",
   "metadata": {},
   "source": [
    "In last tutorial/lecture, we have discussed and coded up the R.H.S. of the equation given below, which is nothing but the **observed weak lensing signal** (excess surface mass density).\n",
    "\n",
    "$$\\Delta \\Sigma (R) = \\frac{\\sum_{ls} w_{\\rm ls} e_{t,ls} (\\Sigma^{-1}_{\\rm crit})^{-1}}{2\\mathcal{R} \\sum_{ls} w_{\\rm ls}}$$\n",
    "\n",
    "Now our aim today is to predict $\\Delta\\Sigma(R)$, which can be expressed as -\n",
    "\n",
    "$$\\Delta\\Sigma(R) \\equiv \\bar{\\Sigma}(<R)-\\langle \\Sigma \\rangle (R)$$\n",
    "\n",
    "where - \n",
    "\n",
    "- $\\bar{\\Sigma}(<R)$ : average projected mass density of the matter (dark+baryon) within $R$.\n",
    "- $\\langle \\Sigma \\rangle (R)$ : azimuthally averaged projected mass (dark+baryon) density at $R$.\n",
    "\n",
    "---\n",
    "\n",
    "To model the $\\Delta\\Sigma(R)$, we need to compute the surface mass density, from the 3-dimensional model of halo mass density profile given by **Navarro–Frenk–White (NFW) profile** [arXiv:astro-ph/9508025](https://arxiv.org/abs/astro-ph/9508025) by integrating this along the line-of-sight.\n",
    "  \n",
    "$$\\mathbf{NFW\\ profile:} \\hspace{0.5 cm} \\rho(r) = \\frac{\\rho_0}{\\left(\\frac{r}{r_s}\\right) \\left(1+\\frac{r}{r_s}\\right)^2}$$\n",
    "\n",
    "$$\\rho_0 = \\delta_{c} \\rho_{m,0} \\hspace{0.2 cm} , \\hspace{0.2 cm} \\delta_{c} = \\frac{200}{3} \\frac{c^3}{\\ln{(1+c)}-\\frac{c}{1+c}}$$ \n",
    "\n",
    "\n",
    "If we define $r_{200m}$ to be the radius at which the average density of the halo turns out to be 200 times the present **mean matter density** of the universe, $\\rho_{m,0}$, then -\n",
    "\n",
    "$$M_{200m} = \\frac{4 \\pi r^3_{200m}}{3} (200\\rho_{m,0})$$\n",
    "\n",
    "$r_{200m}$ is related to the concentration parameter by, $$c = r_{200m}/r_s$$\n",
    "\n",
    "\n",
    "Following [Saas-Fee lectures,](https://link.springer.com/book/10.1007/978-3-540-30310-7), this line-of-sight integrated NFW expression i.e. surface mass density, at a given projected radius **R** is given by -\n",
    "\n",
    "$$\n",
    "\\begin{align*}\n",
    "\\Sigma(R) &= {2r_s\\rho_0}\\ f(r/r_s) \\\\\n",
    "f(x) &= \\frac{1}{x^2-1}(1-\\mathcal{F}(x)) \n",
    "\\end{align*}\n",
    "$$\n",
    "\n",
    "$$\n",
    "\\mathcal{F}(x) = \n",
    "\\begin{cases}\n",
    "\\frac{{\\rm acosh}(1/x)}{\\sqrt{1-x^2}}, & \\text{for } x \\lt 1 \\\\\n",
    "\\frac{{\\rm acos}(1/x)}{\\sqrt{x^2-1}}, & \\text{for } x \\gt 1 \\\\\n",
    "\\end{cases}\n",
    "$$\n",
    "\n",
    "$$\n",
    "f(x) = \\frac{1}{3} \\hspace{0.3 cm} , \\hspace{0.3 cm}  \\text{for } x = 1\n",
    "$$\n",
    "\n",
    "\n",
    "**Notice :** NFW profile is a spherically symmetric profile. Hence its line-of-sight (LOS) integration will be symmetric w.r.t an axis passing through the cluster centre and perpendicular to the lens plane. Hence,\n",
    "\n",
    "$$\\Sigma(R) = \\langle \\Sigma \\rangle (R)$$\n",
    "\n",
    "You should use the above fact while implementing the modelling.\n",
    "\n",
    "**Notice:** We are using cluster centre as a proxy for the halo center. But there can always be some offset between them.\n",
    "\n",
    "And the surface mass density within a projected radius, $(<R)$ is given by - \n",
    "\n",
    "$$\n",
    "\\begin{align*}\n",
    "\\bar{\\Sigma}(<R) &= {2r_s\\rho_0}\\ h(r/r_s) \\\\\n",
    "h(x) &= \\frac{2}{x^2} \\left[ \\mathcal{F}(x) + \\ln\\left( \\frac{x}{2} \\right) \\right] \\\\\n",
    "h(1) &= 2 \\left[ 1 - \\ln (2) \\right]\n",
    "\\end{align*}\n",
    "$$\n",
    "\n",
    "**Thus these expression show that the whole dark matter distribution can be parametrized in terms of only two free parameters, namely - concentration (c) and Halo mass** ($M_{\\rm 200m}$). We suggest the readers to show that these equations are equivalent to the ones described in the lectures.\n",
    "\n",
    "**Note :** Weak gravitational lensing signal probes the total matter distribution around the lens systems (here: galaxy cluster systems). In clusters, the baryonic component only contribute dominantly in the inner regions (small projected radii), where the signal itself is very noisy, resulting in low signal-to-noise ratio. This happens because for smaller projected radii, the radial bin width becomes small due to logarithmic nature of radial binning which reduces the lens-source pair counts in such bins. Plus, the clusters are very bright in the inner regions, due to which a lot of galaxies are not identified by photometric surveys, leading to lack of sources in the inner regions. Thus these signals in the inner regions are not supposed to be very reliable. Thus we altogether ignore the baryonic contribution in the modelling of the weak lensing signals. Moreover, the inner regions don't contribute a lot in the determination of the average halo masses around the lenses.\n",
    "\n",
    "\n",
    "\n",
    "\n"
   ]
  },
  {
   "cell_type": "code",
   "execution_count": 10,
   "metadata": {},
   "outputs": [],
   "source": [
    "%matplotlib inline\n",
    "import matplotlib.pyplot as plt\n",
    "import numpy as np\n",
    "from scipy.optimize import curve_fit"
   ]
  },
  {
   "cell_type": "markdown",
   "metadata": {},
   "source": [
    "We will first define the class where we will code up all the useful function in it. We will create a class instance then use them to call these functions for model prediction. "
   ]
  },
  {
   "cell_type": "markdown",
   "metadata": {},
   "source": [
    "Here we have defined two classes one consisting of useful **constants** named constants and the **halo** class contains the functions useful for model predictions. The halo class has couple of functions define in it which are described as \n",
    "\n",
    "- **__init__**: Here we provide initialization parameters for the modelling - for us they are logarithm halo mass **logM200m** and concentration **con_par**. This also sets up other constants required in the other functions.\n",
    "\n",
    "- **nfw** $\\rho(r)$: This will give the standard NFW dark matter distribution for given radial bins.\n",
    "\n",
    "- **sigma_nfw** $\\Sigma (R)$: This will provide the projected NFW dark matter distribution for given radial bins.\n",
    "\n",
    "- **avg_sigma_nfw** $\\bar{\\Sigma}(< R)$: This will provide the mean projected NFW dark matter distribution within the given radial bins.\n",
    "\n",
    "\n"
   ]
  },
  {
   "cell_type": "markdown",
   "metadata": {},
   "source": [
    "**Please note that the here we are using Halo masses in units of** $h^{-1}M_\\odot$ **and distances in units of** ${\\rm h^{-1}Mpc}.$\n",
    "\n",
    "Useful functions: [arccos](https://numpy.org/doc/stable/reference/generated/numpy.arccos.html), [arccosh](https://numpy.org/doc/stable/reference/generated/numpy.arccosh.html)"
   ]
  },
  {
   "cell_type": "code",
   "execution_count": 8,
   "metadata": {},
   "outputs": [],
   "source": [
    "# working with the classes\n",
    "# NFW  --> delta_sigma\n",
    "class constants:\n",
    "    \"\"\"Useful constants\"\"\"\n",
    "    G     = 4.301e-9   #km^2 Mpc M_sun^-1 s^-2 gravitational constant\n",
    "    H0    = 100.       #h kms-1 Mpc-1 hubble constant at present\n",
    "    omg_m = 0.315      #value of omega_matter is consistent with our signal measurement code\n",
    "\n",
    "# Here halo class inherits the constants class \n",
    "class halo(constants):\n",
    "    \"\"\"Useful functions for weak lensing signal modelling\"\"\"\n",
    "    \n",
    "    def __init__(self, log_M200m, con_par):\n",
    "        self.m_tot   = 10**log_M200m # halo Mass h-1 Msun\n",
    "        self.c       = con_par       # concentration parameter\n",
    "        \n",
    "        self.rho_crt = 3 * self.H0**2 /(8.0*np.pi*self.G) # rho critical\n",
    "        \n",
    "        self.r_200   = (3 * self.m_tot /(4*np.pi*200*self.rho_crt*self.omg_m))**(1./3.) # R200m\n",
    "        \n",
    "        # rho_0 is numerator for NFW profile\n",
    "        self.rho_0   = self.c**3 * self.m_tot/(4 * np.pi * self.r_200**3 *(np.log(1 + self.c) - self.c/(1 + self.c)))\n",
    "        #print(\"log_M200m = %s h-1 M_sun, c = %s \\n\"%(np.log10(self.m_tot), self.c))\n",
    "        \n",
    "    def nfw(self,r):\n",
    "        \"\"\"given r, this gives nfw profile as per the instantiated parameters\"\"\"      \n",
    "        r_s    = self.r_200/self.c\n",
    "        value  = self.rho_0/((r/??)*(??+r/??)**??)\n",
    "        return value\n",
    "    \n",
    "    def sigma_nfw(self,r):\n",
    "        \"\"\"analytical projection of NFW\"\"\"\n",
    "        r_s = self.r_200/self.c\n",
    "        k   = 2*r_s*self.rho_0\n",
    "        sig = 0.0*r\n",
    "        c = 0\n",
    "        for i in r:\n",
    "            x = i/r_s\n",
    "            if x < ??:\n",
    "                value = (1 - np.??(1/x)/np.sqrt(1??x**2))/(x**??-1)\n",
    "            elif x > ??:\n",
    "                value = (1 - np.??(1/x)/np.sqrt(x**2??1))/(x**??-1)\n",
    "            else:\n",
    "                value = 1./3.\n",
    "            sig[c] = value*k\n",
    "            c=c+1\n",
    "        return sig\n",
    "    \n",
    "    def avg_sigma_nfw(self,r):           \n",
    "        \"\"\"analytical average projected of NFW\"\"\"\n",
    "        r_s  = self.r_200/self.c\n",
    "        k    = 2*r_s*self.rho_0\n",
    "        sig  = 0.0*r\n",
    "        c=0\n",
    "        for i in r:\n",
    "            x = i/r_s\n",
    "            if x < 1:\n",
    "                value = np.??cosh(1/x)/np.sqrt(1-x**??) + np.??(x/2.0) #numpy default log is base e.\n",
    "                value = value*2.0/x**??\n",
    "            elif x > 1:\n",
    "                value = np.??cos(1/x)/np.sqrt(x**??-1)  + np.??(x/2.0)\n",
    "                value = value*2.0/x**??\n",
    "            else:\n",
    "                value = 2*(1-np.log(2))\n",
    "            sig[c] = value*k\n",
    "            c=c+1\n",
    "        return sig\n",
    "        \n",
    "    def esd(self,r): \n",
    "        \"\"\"ESD profile from analytical predictions\"\"\"\n",
    "        val = self.??nfw(r) - self.??nfw(r) #check with the analytical equation up there\n",
    "        return val\n",
    "\n",
    "    \n"
   ]
  },
  {
   "cell_type": "markdown",
   "metadata": {},
   "source": [
    "<div class=\"alert alert-info\">\n",
    "\n",
    "Exercise: \n",
    "- Create a instance for the halo class for halo having **logM200m = 14** and **con_par = 5** as: hp = halo(14,5)     \n",
    "- Tell the output of : print(np.log10(hp.m_tot), hp.c, np.log10(hp.rho_crt), hp.r_200, np.log10(hp.rho_0)) \n",
    "</div>"
   ]
  },
  {
   "cell_type": "code",
   "execution_count": 9,
   "metadata": {},
   "outputs": [
    {
     "data": {
      "text/plain": [
       "Text(0, 0.5, '$\\\\rho(r)$')"
      ]
     },
     "execution_count": 9,
     "metadata": {},
     "output_type": "execute_result"
    },
    {
     "data": {
      "image/png": "[encoded data removed]",
      "text/plain": [
       "<Figure size 432x288 with 1 Axes>"
      ]
     },
     "metadata": {
      "needs_background": "light"
     },
     "output_type": "display_data"
    }
   ],
   "source": [
    "# nfw fits only require two parameters logarithm halo mass log10(M200m) and concentration parameter $c$\n",
    "# Here we are using log10(M200m) = 14, c = 5. \n",
    "hp = halo(14,5)  # halo class instance\n",
    "rbin = np.logspace(-2,np.log10(2),30)\n",
    "plt.plot(rbin, hp.nfw(rbin), '-')\n",
    "plt.xscale('log')\n",
    "plt.yscale('log')\n",
    "plt.xlabel(r'$r$')\n",
    "plt.ylabel(r'$\\rho(r)$')"
   ]
  },
  {
   "cell_type": "markdown",
   "metadata": {},
   "source": [
    "<div class=\"alert alert-info\">\n",
    "\n",
    "Exercise: \n",
    "    \n",
    "- Make a similar plot as above for projected matter density $\\Sigma(R)$ using **sigma_nfw** and excess surface mass density $\\Delta \\Sigma (R)$ using **esd** function in the halo class. You can use the same radial binning as in the above code.\n",
    "\n",
    "</div>"
   ]
  },
  {
   "cell_type": "markdown",
   "metadata": {},
   "source": [
    "As we want to compare our halo mass estimates with that of the study done on same clusters but with SDSS shape catalog following - [arXiv:1707.01907](https://arxiv.org/abs/1707.01907). So, similar to this work we are also looking cluster masses in units of $10^{14} {\\rm h^{-1} Mpc}$."
   ]
  },
  {
   "cell_type": "code",
   "execution_count": 14,
   "metadata": {},
   "outputs": [],
   "source": [
    "def model(x, log_M200m, c):\n",
    "    log_M200m = np.log10(log_M200m) + 14 # we are looking in units of 10^14\n",
    "    hp = halo(log_M200m, c);\n",
    "    esd = hp.esd(x)/1e?? # remember we are working with in Mpc but the measurements are in pc, we need a conversion\n",
    "    return esd\n"
   ]
  },
  {
   "cell_type": "markdown",
   "metadata": {},
   "source": [
    "<div class=\"alert alert-info\">\n",
    "\n",
    "Exercise: \n",
    "    \n",
    "- print the output of : print(model(np.linspace(0.2,2.0,5), 13, 6))\n",
    "</div>"
   ]
  },
  {
   "cell_type": "markdown",
   "metadata": {},
   "source": [
    "Now we will use the above model function to do the fitting to our measurements. At present we are using [curve_fit](https://docs.scipy.org/doc/scipy/reference/generated/scipy.optimize.curve_fit.html) function from scipy to get the best fit model parameters. More advanced reader can use sophasticated tools like [emcee](https://emcee.readthedocs.io/) to do a MCMC on this."
   ]
  },
  {
   "cell_type": "code",
   "execution_count": 11,
   "metadata": {},
   "outputs": [],
   "source": [
    "from scipy.optimize import curve_fit"
   ]
  },
  {
   "cell_type": "code",
   "execution_count": null,
   "metadata": {},
   "outputs": [],
   "source": [
    "data = np.loadtxt('/home/idies/workspace/Storage/divyar/IAGRG_2022/DataStore/iagrg_dsigma.dat')\n",
    "x    = data[:,0]\n",
    "y    = data[:,1]\n",
    "yerr = data[:,2]"
   ]
  },
  {
   "cell_type": "code",
   "execution_count": null,
   "metadata": {},
   "outputs": [],
   "source": [
    "plt.figure(dpi=150)\n",
    "# curve_fit requires initial guess (p0) to get resonable fits, sigma takes in the y errobars \n",
    "popt, pcov = curve_fit(model, x, y, p0=[12,0.5], sigma=yerr)\n",
    "\n",
    "log_M200m, c = popt\n",
    "sig_logMh, sig_c = np.sqrt(np.diag(pcov)) # pcov is the covariance between the parameters\n",
    "\n",
    "# rough estimate of chisq\n",
    "chisq = np.sum((y-model(x, log_M200m, c))**2*1.0/yerr**2)\n",
    "dof = 10 - 2 # 10 datapoints - 2 parameters\n",
    "\n",
    "plt.errorbar(x, y, yerr=yerr, fmt='.', capsize=3, label='Data')\n",
    "plt.errorbar(x, model(x, log_M200m, c) , fmt='-', label=r'Fit, $\\chi^2 /{\\rm dof} = %2.2f/%d$'%(chisq,dof))\n",
    "\n",
    "plt.title(r'$M_{\\rm 200m} = %2.2f \\pm %2.2f \\times 10^{14} \\,h^{-1} M_\\odot,\\, c = %2.2f \\pm %2.2f$'%(log_M200m, sig_logMh, c, sig_c))\n",
    "plt.legend()\n",
    "plt.xlabel(r'$R[{\\rm h^{-1}Mpc}]$')\n",
    "plt.ylabel(r'$\\Delta\\Sigma [{\\rm h M_\\odot pc^{-2}}]$')\n",
    "plt.xscale('log')\n",
    "plt.yscale('log')"
   ]
  },
  {
   "cell_type": "markdown",
   "metadata": {},
   "source": [
    "<div class=\"alert alert-info\">\n",
    "\n",
    "Exercise: \n",
    "    \n",
    "- Compare your halo mass constraints with that of the weak lensing study by using SDSS shape catalog - [arXiv:1707.01907](https://arxiv.org/abs/1707.01907).\n",
    "- Remember you are studying cluster with redshifts $0.1<z_{\\rm red}<0.33$ and richness $55<\\lambda<100$. So compare the results in the subpanel of fig 4 or fig 5 in [arXiv:1707.01907](https://arxiv.org/abs/1707.01907).    \n",
    "\n",
    " \n",
    "</div>"
   ]
  },
  {
   "cell_type": "markdown",
   "metadata": {},
   "source": [
    "Given all the machinery to the reader to get the weak lensing signal and model them to constraint halo masses. We encourage reader to try out different cuts on their cluster sample and check the variation in halo masses."
   ]
  },
  {
   "cell_type": "markdown",
   "metadata": {},
   "source": [
    "**We want to stress on the point that in the current tutorial we did a very simplistic job both in measurements as well as modelling. Please follow the references given in the tutorials as well as lectures to do a more rigorous analysis.**"
   ]
  },
  {
   "cell_type": "code",
   "execution_count": null,
   "metadata": {},
   "outputs": [],
   "source": []
  }
 ],
 "metadata": {
  "kernelspec": {
   "display_name": "Python 3",
   "language": "python",
   "name": "python3"
  },
  "language_info": {
   "codemirror_mode": {
    "name": "ipython",
    "version": 3
   },
   "file_extension": ".py",
   "mimetype": "text/x-python",
   "name": "python",
   "nbconvert_exporter": "python",
   "pygments_lexer": "ipython3",
   "version": "3.7.10"
  }
 },
 "nbformat": 4,
 "nbformat_minor": 4
}
