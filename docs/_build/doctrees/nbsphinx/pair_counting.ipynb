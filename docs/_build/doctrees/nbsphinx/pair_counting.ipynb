{
 "cells": [
  {
   "cell_type": "markdown",
   "metadata": {},
   "source": [
    "# Day 2 - Finding Neighbours"
   ]
  },
  {
   "cell_type": "code",
   "execution_count": 1,
   "metadata": {},
   "outputs": [
    {
     "data": {
      "text/html": [
       "<script>$(\"div.input\").hide()</script>"
      ],
      "text/plain": [
       "<IPython.core.display.HTML object>"
      ]
     },
     "metadata": {},
     "output_type": "display_data"
    },
    {
     "data": {
      "application/vnd.jupyter.widget-view+json": {
       "model_id": "d239ef834e104e0e8b1edfe01447a3ae",
       "version_major": 2,
       "version_minor": 0
      },
      "text/plain": [
       "ToggleButton(value=False, description='Show code')"
      ]
     },
     "metadata": {},
     "output_type": "display_data"
    },
    {
     "data": {
      "text/html": [
       "<script>$(\"div.input\").show()</script>"
      ],
      "text/plain": [
       "<IPython.core.display.HTML object>"
      ]
     },
     "metadata": {},
     "output_type": "display_data"
    },
    {
     "data": {
      "text/html": [
       "<script>$(\"div.input\").hide()</script>"
      ],
      "text/plain": [
       "<IPython.core.display.HTML object>"
      ]
     },
     "metadata": {},
     "output_type": "display_data"
    },
    {
     "data": {
      "text/html": [
       "<script>$(\"div.input\").show()</script>"
      ],
      "text/plain": [
       "<IPython.core.display.HTML object>"
      ]
     },
     "metadata": {},
     "output_type": "display_data"
    }
   ],
   "source": [
    "import ipywidgets as widgets\n",
    "from IPython.display import display, HTML\n",
    "\n",
    "javascript_functions = {False: \"hide()\", True: \"show()\"}\n",
    "button_descriptions  = {False: \"Show code\", True: \"Hide code\"}\n",
    "\n",
    "def toggle_code(state):\n",
    "\n",
    "    \"\"\"\n",
    "    Toggles the JavaScript show()/hide() function on the div.input element.\n",
    "    \"\"\"\n",
    "\n",
    "    output_string = \"<script>$(\\\"div.input\\\").{}</script>\"\n",
    "    output_args   = (javascript_functions[state],)\n",
    "    output        = output_string.format(*output_args)\n",
    "\n",
    "    display(HTML(output))\n",
    "\n",
    "\n",
    "def button_action(value):\n",
    "\n",
    "    \"\"\"\n",
    "    Calls the toggle_code function and updates the button description.\n",
    "    \"\"\"\n",
    "\n",
    "    state = value.new\n",
    "\n",
    "    toggle_code(state)\n",
    "\n",
    "    value.owner.description = button_descriptions[state]\n",
    "\n",
    "\n",
    "state = False\n",
    "toggle_code(state)\n",
    "\n",
    "button = widgets.ToggleButton(state, description = button_descriptions[state])\n",
    "button.observe(button_action, \"value\")\n",
    "\n",
    "display(button)"
   ]
  },
  {
   "cell_type": "code",
   "execution_count": 83,
   "metadata": {},
   "outputs": [],
   "source": [
    "import pandas as pd\n",
    "import numpy as np\n",
    "from matplotlib import pyplot as plt\n",
    "from time import time"
   ]
  },
  {
   "cell_type": "markdown",
   "metadata": {},
   "source": [
    "### Reading the lens/source catalog"
   ]
  },
  {
   "cell_type": "code",
   "execution_count": 90,
   "metadata": {
    "tags": [
     "hide_input"
    ]
   },
   "outputs": [],
   "source": [
    "# !head -n 5 /home/idies/workspace/Storage/navin/persistent/demo_objects.csv\n",
    "# !wc -l /home/idies/workspace/Storage/navin/persistent/demo_objects.csv"
   ]
  },
  {
   "cell_type": "code",
   "execution_count": 91,
   "metadata": {},
   "outputs": [],
   "source": [
    "#reading lens file\n",
    "\n",
    "#tries to read everthing in the file\n",
    "df = pd.read_csv(f\"/home/idies/workspace/Storage/navin/persistent/demo_objects.csv\", sep=',') "
   ]
  },
  {
   "cell_type": "markdown",
   "metadata": {},
   "source": [
    "\\# a brief look of what dataFrame has for us-\n"
   ]
  },
  {
   "cell_type": "code",
   "execution_count": 92,
   "metadata": {},
   "outputs": [
    {
     "data": {
      "text/html": [
       "<div>\n",
       "<style scoped>\n",
       "    .dataframe tbody tr th:only-of-type {\n",
       "        vertical-align: middle;\n",
       "    }\n",
       "\n",
       "    .dataframe tbody tr th {\n",
       "        vertical-align: top;\n",
       "    }\n",
       "\n",
       "    .dataframe thead th {\n",
       "        text-align: right;\n",
       "    }\n",
       "</style>\n",
       "<table border=\"1\" class=\"dataframe\">\n",
       "  <thead>\n",
       "    <tr style=\"text-align: right;\">\n",
       "      <th></th>\n",
       "      <th>ra</th>\n",
       "      <th>dec</th>\n",
       "      <th>z</th>\n",
       "      <th>col_3</th>\n",
       "      <th>col_4</th>\n",
       "      <th>col_5</th>\n",
       "    </tr>\n",
       "  </thead>\n",
       "  <tbody>\n",
       "    <tr>\n",
       "      <th>0</th>\n",
       "      <td>30.611735</td>\n",
       "      <td>-6.356909</td>\n",
       "      <td>23.901826</td>\n",
       "      <td>23.043298</td>\n",
       "      <td>22.649281</td>\n",
       "      <td>0.50</td>\n",
       "    </tr>\n",
       "    <tr>\n",
       "      <th>1</th>\n",
       "      <td>30.610781</td>\n",
       "      <td>-6.350381</td>\n",
       "      <td>22.385773</td>\n",
       "      <td>21.548382</td>\n",
       "      <td>21.272576</td>\n",
       "      <td>0.38</td>\n",
       "    </tr>\n",
       "    <tr>\n",
       "      <th>2</th>\n",
       "      <td>30.596478</td>\n",
       "      <td>-6.346152</td>\n",
       "      <td>23.948118</td>\n",
       "      <td>23.121471</td>\n",
       "      <td>22.773187</td>\n",
       "      <td>0.37</td>\n",
       "    </tr>\n",
       "    <tr>\n",
       "      <th>3</th>\n",
       "      <td>30.592680</td>\n",
       "      <td>-6.344521</td>\n",
       "      <td>23.427314</td>\n",
       "      <td>22.022286</td>\n",
       "      <td>21.334948</td>\n",
       "      <td>0.45</td>\n",
       "    </tr>\n",
       "    <tr>\n",
       "      <th>4</th>\n",
       "      <td>30.601111</td>\n",
       "      <td>-6.338650</td>\n",
       "      <td>21.660045</td>\n",
       "      <td>20.812223</td>\n",
       "      <td>20.383688</td>\n",
       "      <td>0.32</td>\n",
       "    </tr>\n",
       "  </tbody>\n",
       "</table>\n",
       "</div>"
      ],
      "text/plain": [
       "          ra       dec          z      col_3      col_4  col_5\n",
       "0  30.611735 -6.356909  23.901826  23.043298  22.649281   0.50\n",
       "1  30.610781 -6.350381  22.385773  21.548382  21.272576   0.38\n",
       "2  30.596478 -6.346152  23.948118  23.121471  22.773187   0.37\n",
       "3  30.592680 -6.344521  23.427314  22.022286  21.334948   0.45\n",
       "4  30.601111 -6.338650  21.660045  20.812223  20.383688   0.32"
      ]
     },
     "execution_count": 92,
     "metadata": {},
     "output_type": "execute_result"
    }
   ],
   "source": [
    "df.head()"
   ]
  },
  {
   "cell_type": "markdown",
   "metadata": {},
   "source": [
    "\\# select required columns only"
   ]
  },
  {
   "cell_type": "code",
   "execution_count": 93,
   "metadata": {},
   "outputs": [],
   "source": [
    "df = pd.read_csv(f\"/home/idies/workspace/Storage/navin/persistent/demo_objects.csv\", sep=',', usecols=[0,1,2])"
   ]
  },
  {
   "cell_type": "code",
   "execution_count": 95,
   "metadata": {},
   "outputs": [
    {
     "data": {
      "text/html": [
       "<div>\n",
       "<style scoped>\n",
       "    .dataframe tbody tr th:only-of-type {\n",
       "        vertical-align: middle;\n",
       "    }\n",
       "\n",
       "    .dataframe tbody tr th {\n",
       "        vertical-align: top;\n",
       "    }\n",
       "\n",
       "    .dataframe thead th {\n",
       "        text-align: right;\n",
       "    }\n",
       "</style>\n",
       "<table border=\"1\" class=\"dataframe\">\n",
       "  <thead>\n",
       "    <tr style=\"text-align: right;\">\n",
       "      <th></th>\n",
       "      <th>ra</th>\n",
       "      <th>dec</th>\n",
       "      <th>z</th>\n",
       "    </tr>\n",
       "  </thead>\n",
       "  <tbody>\n",
       "    <tr>\n",
       "      <th>0</th>\n",
       "      <td>30.611735</td>\n",
       "      <td>-6.356909</td>\n",
       "      <td>23.901826</td>\n",
       "    </tr>\n",
       "    <tr>\n",
       "      <th>1</th>\n",
       "      <td>30.610781</td>\n",
       "      <td>-6.350381</td>\n",
       "      <td>22.385773</td>\n",
       "    </tr>\n",
       "    <tr>\n",
       "      <th>2</th>\n",
       "      <td>30.596478</td>\n",
       "      <td>-6.346152</td>\n",
       "      <td>23.948118</td>\n",
       "    </tr>\n",
       "    <tr>\n",
       "      <th>3</th>\n",
       "      <td>30.592680</td>\n",
       "      <td>-6.344521</td>\n",
       "      <td>23.427314</td>\n",
       "    </tr>\n",
       "    <tr>\n",
       "      <th>4</th>\n",
       "      <td>30.601111</td>\n",
       "      <td>-6.338650</td>\n",
       "      <td>21.660045</td>\n",
       "    </tr>\n",
       "  </tbody>\n",
       "</table>\n",
       "</div>"
      ],
      "text/plain": [
       "          ra       dec          z\n",
       "0  30.611735 -6.356909  23.901826\n",
       "1  30.610781 -6.350381  22.385773\n",
       "2  30.596478 -6.346152  23.948118\n",
       "3  30.592680 -6.344521  23.427314\n",
       "4  30.601111 -6.338650  21.660045"
      ]
     },
     "execution_count": 95,
     "metadata": {},
     "output_type": "execute_result"
    }
   ],
   "source": [
    "df.head()"
   ]
  },
  {
   "cell_type": "markdown",
   "metadata": {},
   "source": [
    "### Visualising the coordinate space of input data"
   ]
  },
  {
   "cell_type": "code",
   "execution_count": 96,
   "metadata": {},
   "outputs": [
    {
     "data": {
      "image/png": "[encoded data removed]",
      "text/plain": [
       "<Figure size 1008x432 with 2 Axes>"
      ]
     },
     "metadata": {
      "needs_background": "light"
     },
     "output_type": "display_data"
    }
   ],
   "source": [
    "fig,ax = plt.subplots(1,2, figsize=(14,6))\n",
    "ax1,ax2 = ax\n",
    "\n",
    "#plot all the coordinates   \n",
    "ax1.scatter(df.ra.values,df.dec.values, s=2)\n",
    "ax1.set_xlabel(\"ra (deg)\", fontsize=14)\n",
    "ax1.set_ylabel(\"dec (deg)\", fontsize=14)\n",
    "\n",
    "ax1.set_title(\"Plot looks too dense.\\nlet's reduce the density of points and have another look.\")\n",
    "\n",
    "#Randomly picking up points to plots to reduce the density of points\n",
    "Number_of_points = df.ra.size\n",
    "down_sample_by = 100\n",
    "random_indices = np.random.choice(np.arange(Number_of_points), \n",
    "                                  size=int(Number_of_points/down_sample_by), \n",
    "                                  replace=False)\n",
    "#plot down sampled number coordinates\n",
    "ax2.scatter(df.ra.values[random_indices], df.dec.values[random_indices], s=2)\n",
    "ax2.set_xlabel(\"ra (deg)\", fontsize=14)\n",
    "ax2.set_ylabel(\"dec (deg)\", fontsize=14)\n",
    "\n",
    "plt.show()"
   ]
  },
  {
   "cell_type": "markdown",
   "metadata": {},
   "source": [
    "### `On-sky distance` between two points on the surface of a unit sphere"
   ]
  },
  {
   "cell_type": "markdown",
   "metadata": {},
   "source": [
    "#### Method 1\n",
    "$\\cos(\\theta)=\\frac{\\vec{r_1}\\cdot\\vec{r_2}}{r_1 r_2}$ <br>\n",
    "\n",
    "set $r_1=r_2=1$ \n",
    "\n",
    "get $\\theta$\n",
    "\n",
    "Using: $\\mathrm{arc\\_distance}=s=r \\times \\theta$, obtain the distance between the two ra,dec values.\n",
    "Since $r_1=r_2=1$, \n",
    "\n",
    "$\\Rightarrow s=\\theta$ (radians)"
   ]
  },
  {
   "cell_type": "code",
   "execution_count": 11,
   "metadata": {},
   "outputs": [],
   "source": [
    "rad_to_arcsec = 180.0*3600./np.pi\n",
    "arcsec_to_rad = 1/rad_to_arcsec\n",
    "\n",
    "def dotprod_dist(obj1,obj2):\n",
    "    \"\"\"dot prod formula\"\"\"\n",
    "    ra1,dec1 = obj1\n",
    "    ra2,dec2 = obj2\n",
    "    arg = np.cos(np.deg2rad(dec2))* np.cos(np.deg2rad(dec1))* np.cos(np.deg2rad(ra1) - np.deg2rad(ra2)) + np.sin(np.deg2rad(dec1))* np.sin(np.deg2rad(dec2))\n",
    "    if arg>1.0:\n",
    "        #the problematic ones which are being set to 1.0 are different from 1.0 at a decimal point which is beyond the precision level supported by the ra,dec's themselves. \n",
    "        arg = 1.0\n",
    "    dist = np.arccos(arg)* rad_to_arcsec\n",
    "    return dist\n"
   ]
  },
  {
   "cell_type": "markdown",
   "metadata": {},
   "source": [
    "#### Method 2:\n",
    "Equatorial coordinates (ra,dec) $\\equiv$ $(\\phi,\\delta)$\n",
    "\n",
    "For a given pair of objects, $(\\phi_1,\\delta_1)$ and $(\\phi_2,\\delta_2)$\n",
    "\n",
    "3D distance: \n",
    "$d{r}=\\sqrt{\\left( \\Delta \\phi \\cdot \\cos(\\frac{\\delta_1+\\delta_2}{2}) \\right)^2 + (\\Delta \\delta)^2}$"
   ]
  },
  {
   "cell_type": "code",
   "execution_count": 99,
   "metadata": {},
   "outputs": [],
   "source": [
    "def dist_betw_two_obj(obj1,obj2):\n",
    "    #3D distance between two points\n",
    "    #ra1,dec1,ra2,dec2=np.loadtxt(fname,unpack=1)\n",
    "    ra1,dec1 = obj1\n",
    "    ra2,dec2 = obj2\n",
    "    dra=(ra1-ra2)*np.cos(np.deg2rad(dec1/2.+dec2/2.))\n",
    "    ddec=dec1-dec2\n",
    "    #print \"Ang sep (deg,mins,sec):\",dist, dist*60, dist*3600\n",
    "    return np.sqrt(dra**2+ddec**2)*3600.0 #*3600 gives value in arcsec\n"
   ]
  },
  {
   "cell_type": "markdown",
   "metadata": {},
   "source": [
    "### Comparison between the distance computation codes\n",
    "arc\\_distance vs 3D distance"
   ]
  },
  {
   "cell_type": "code",
   "execution_count": 100,
   "metadata": {},
   "outputs": [],
   "source": [
    "# creating tuple of values from ra,dec of each object\n",
    "coords = list( zip(df.ra.values,df.dec.values))"
   ]
  },
  {
   "cell_type": "code",
   "execution_count": 101,
   "metadata": {},
   "outputs": [
    {
     "data": {
      "text/plain": [
       "(23.7466131834144, 23.746613375392588)"
      ]
     },
     "execution_count": 101,
     "metadata": {},
     "output_type": "execute_result"
    }
   ],
   "source": [
    "#comparing two formulae\n",
    "dotprod_dist(coords[0],coords[1]), dist_betw_two_obj(coords[0],coords[1])"
   ]
  },
  {
   "cell_type": "markdown",
   "metadata": {},
   "source": [
    "### `Brute force search for neighbour objects` within a specified distance \n",
    "time complexity ~ $\\mathcal{O}(n^2)$ "
   ]
  },
  {
   "cell_type": "code",
   "execution_count": 102,
   "metadata": {},
   "outputs": [],
   "source": [
    "from collections import defaultdict\n",
    "\n",
    "def find_neighbour_points(coords, rmax=10):\n",
    "    \"\"\"\n",
    "    finding neighbour objects within some distance, for all the objects in a given array of coordinates.\n",
    "    \n",
    "    coords: an array/list of tuples (ra,dec)\n",
    "    \n",
    "    Returns:\n",
    "    `nnids`: indices into `coords` of neighbours of each object in `coords` within `rmax`\n",
    "    `distances`: distance of objects matched in `nnids\"\"\"\n",
    "\n",
    "    # define containers for the distance and id information of matched objects\n",
    "    distances = defaultdict(list)\n",
    "    nnids = defaultdict(list)\n",
    "\n",
    "    c=0\n",
    "    for ii,obj1 in enumerate(coords):\n",
    "        c+=1\n",
    "        d=0\n",
    "        for jj,obj2 in enumerate(coords):\n",
    "            if jj==ii:\n",
    "                continue\n",
    "            d+=1\n",
    "            dist = dist_betw_two_obj(obj1,obj2)\n",
    "            if dist <= rmax:\n",
    "                nnids[ii].append(jj)\n",
    "                distances[ii].append(dist)\n",
    "        print(ii,nnids[ii],distances[ii])                \n",
    "    return nnids,distances\n",
    "\n",
    "def query_neighbour_point(coords1, coords2, rmax=10):\n",
    "    \"\"\"\n",
    "    coords1: a tuple or an array/list of tuples (ra,dec)\n",
    "    coords2: an array/list of tuples (ra,dec)\n",
    "    \n",
    "    Returns:\n",
    "    `nnids`: indices into `coords2` of neighbours of each object `coords1` within `rmax`.\n",
    "    `distances`: distance of objects matched in `nnids`\"\"\"\n",
    "\n",
    "    coords1 = np.atleast_2d(coords1)\n",
    "    \n",
    "    # define containers for the distance and id information of matched objects\n",
    "    distances = defaultdict(list)\n",
    "    nnids = defaultdict(list)\n",
    "\n",
    "    for ii,obj1 in enumerate(coords1):\n",
    "        for jj,obj2 in enumerate(coords2):\n",
    "            dist = dist_betw_two_obj(obj1,obj2)\n",
    "            if dist <= rmax:\n",
    "                nnids[ii].append(jj)\n",
    "                distances[ii].append(dist)\n",
    "        print(ii,nnids[ii],distances[ii])                \n",
    "    return nnids,distances"
   ]
  },
  {
   "cell_type": "markdown",
   "metadata": {},
   "source": [
    "### Searching within a ball of radius `rmax` of `one specified object` \n",
    "using `query_neighbour_point` function (brute force search)\n",
    "\n",
    "For `rmax`(default value)=15 arcsec"
   ]
  },
  {
   "cell_type": "code",
   "execution_count": 103,
   "metadata": {},
   "outputs": [
    {
     "name": "stdout",
     "output_type": "stream",
     "text": [
      "For an object having index of 15 in the catalog:\n"
     ]
    }
   ],
   "source": [
    "print(f\"For an object having index of {nth} in the catalog:\")"
   ]
  },
  {
   "cell_type": "code",
   "execution_count": 104,
   "metadata": {
    "scrolled": true
   },
   "outputs": [
    {
     "name": "stdout",
     "output_type": "stream",
     "text": [
      "No, neighbours found, distances to neighbours \n",
      "0 [14, 15, 16, 44] [5.475958131239454, 0.0, 13.479755086756219, 10.276694368285947]\n",
      "CPU times: user 4.91 s, sys: 0 ns, total: 4.91 s\n",
      "Wall time: 4.91 s\n"
     ]
    }
   ],
   "source": [
    "test_object = coords[nth]\n",
    "print(\"No, neighbours found, distances to neighbours \")\n",
    "%time nnidsx, distancesx = query_neighbour_point(test_object,coords,rmax=15)"
   ]
  },
  {
   "cell_type": "code",
   "execution_count": 105,
   "metadata": {},
   "outputs": [
    {
     "name": "stdout",
     "output_type": "stream",
     "text": [
      "Accessing the neighbour points for the '15'th object using the output \n",
      "of our brute force method:\n",
      "[14, 15, 16, 44] [5.475958131239454, 0.0, 13.479755086756219, 10.276694368285947]\n",
      "neighbours: [14, 16, 44] \n",
      "distances: [5.475958131239454, 13.479755086756219, 10.276694368285947]\n",
      "\n",
      "Accessing the neighbour coordinates of the 15th object:\n",
      "14 (30.564297942270603, -6.322030429805476)\n",
      "15 (30.56561715299634, -6.321259374304455)\n",
      "16 (30.562347805639572, -6.319398928221537)\n",
      "44 (30.568297869918087, -6.3202347701814166)\n"
     ]
    }
   ],
   "source": [
    "print(f\"\"\"Accessing the neighbour points for the '{nth}'th object using the output \n",
    "of our brute force method:\"\"\")\n",
    "print(nnidsx[0], distancesx[0])\n",
    "\n",
    "print(f\"neighbours: {nnids[nth]} \\ndistances: {distances[nth]}\")\n",
    "print()\n",
    "\n",
    "print(f\"Accessing the neighbour coordinates of the {nth}th object:\")\n",
    "for ii in nnidsx[0]:\n",
    "    print(ii, coords[ii])"
   ]
  },
  {
   "cell_type": "markdown",
   "metadata": {},
   "source": [
    "### Search within a ball of radius `rmax` of all the objects in a catalog \n",
    "using `find_neighbour_points` function (brute force search)\n",
    "\n",
    "For `rmax`(default value)=15 arcsec"
   ]
  },
  {
   "cell_type": "code",
   "execution_count": 106,
   "metadata": {},
   "outputs": [
    {
     "name": "stdout",
     "output_type": "stream",
     "text": [
      "0 [] []\n",
      "1 [] []\n",
      "2 [3] [14.802299170813551]\n",
      "3 [2] [14.802299170813551]\n",
      "4 [36] [13.682331444812649]\n",
      "5 [] []\n",
      "6 [] []\n",
      "7 [] []\n",
      "8 [13] [9.46553729170334]\n",
      "9 [10, 12, 38] [10.946803628195813, 5.876628556475439, 14.594679816593928]\n",
      "10 [9, 12] [10.946803628195813, 10.28060110962467]\n",
      "11 [42] [7.1517256212952995]\n",
      "12 [9, 10, 14] [5.876628556475439, 10.28060110962467, 11.314135857330662]\n",
      "13 [8] [9.46553729170334]\n",
      "14 [12, 15, 16] [11.314135857330662, 5.475958131239454, 11.76585438073485]\n",
      "15 [14, 16, 44] [5.475958131239454, 13.479755086756219, 10.276694368285947]\n",
      "16 [14, 15] [11.76585438073485, 13.479755086756219]\n",
      "17 [46] [6.898088994114847]\n",
      "18 [55] [8.53424262342414]\n",
      "19 [] []\n",
      "20 [] []\n",
      "21 [] []\n",
      "22 [] []\n",
      "23 [] []\n",
      "24 [] []\n",
      "25 [26] [13.299083171910977]\n",
      "26 [25] [13.299083171910977]\n",
      "27 [] []\n",
      "28 [] []\n",
      "29 [30] [3.691834241752694]\n",
      "30 [29] [3.691834241752694]\n",
      "31 [] []\n",
      "32 [] []\n",
      "33 [] []\n",
      "34 [] []\n",
      "35 [36] [10.896870584428063]\n",
      "36 [4, 35] [13.682331444812649, 10.896870584428063]\n",
      "37 [] []\n",
      "38 [9, 40] [14.594679816593928, 14.719522118858883]\n",
      "39 [40] [1.9847043913710136]\n",
      "40 [38, 39] [14.719522118858883, 1.9847043913710136]\n",
      "41 [] []\n",
      "42 [11] [7.1517256212952995]\n",
      "43 [] []\n",
      "44 [15] [10.276694368285947]\n",
      "45 [] []\n",
      "46 [17] [6.898088994114847]\n",
      "47 [] []\n",
      "48 [] []\n",
      "49 [50] [4.0793492849812125]\n",
      "50 [49] [4.0793492849812125]\n",
      "51 [] []\n",
      "52 [] []\n",
      "53 [54] [13.282102309002905]\n",
      "54 [53] [13.282102309002905]\n",
      "55 [18] [8.53424262342414]\n",
      "56 [] []\n",
      "57 [] []\n",
      "58 [59] [5.839328485266825]\n",
      "59 [58] [5.839328485266825]\n",
      "60 [] []\n",
      "61 [] []\n",
      "62 [] []\n",
      "63 [] []\n",
      "64 [] []\n",
      "65 [] []\n",
      "66 [69] [9.77808333883059]\n",
      "67 [] []\n",
      "68 [96] [12.302986324607426]\n",
      "69 [66] [9.77808333883059]\n",
      "70 [] []\n",
      "71 [] []\n",
      "72 [] []\n",
      "73 [] []\n",
      "74 [] []\n",
      "75 [] []\n",
      "76 [] []\n",
      "77 [] []\n",
      "78 [] []\n",
      "79 [] []\n",
      "80 [] []\n",
      "81 [] []\n",
      "82 [] []\n",
      "83 [] []\n",
      "84 [] []\n",
      "85 [] []\n",
      "86 [] []\n",
      "87 [] []\n",
      "88 [89, 90] [1.8251612273752469, 11.29951914681957]\n",
      "89 [88, 90] [1.8251612273752469, 9.517249259727535]\n",
      "90 [88, 89] [11.29951914681957, 9.517249259727535]\n",
      "91 [] []\n",
      "92 [] []\n",
      "93 [] []\n",
      "94 [] []\n",
      "95 [] []\n",
      "96 [68] [12.302986324607426]\n",
      "97 [] []\n",
      "98 [] []\n",
      "99 [] []\n",
      "CPU times: user 263 ms, sys: 5.08 ms, total: 268 ms\n",
      "Wall time: 254 ms\n"
     ]
    }
   ],
   "source": [
    "# from time import time \n",
    "# t=time()\n",
    "# nnids,distances = find_neighbour_points(coords[:100],rmax=15)\n",
    "# print(f\"total time taken to run = {time()-t}\")\n",
    "\n",
    "%time nnids,distances = find_neighbour_points(coords[:10],rmax=15)"
   ]
  },
  {
   "cell_type": "code",
   "execution_count": 107,
   "metadata": {},
   "outputs": [
    {
     "name": "stdout",
     "output_type": "stream",
     "text": [
      "Accessing the neighbour points for the 15th object using the output \n",
      "of our brute force method:\n",
      "neighbours: [14, 16, 44] \n",
      "distances: [5.475958131239454, 13.479755086756219, 10.276694368285947]\n",
      "\n",
      "Accessing the neighbour coordinates of the 15th object:\n",
      "14 (30.564297942270603, -6.322030429805476)\n",
      "16 (30.562347805639572, -6.319398928221537)\n",
      "44 (30.568297869918087, -6.3202347701814166)\n"
     ]
    }
   ],
   "source": [
    "nth = 15\n",
    "print(f\"\"\"Accessing the neighbour points for the {nth}th object using the output \n",
    "of our brute force method:\"\"\")\n",
    "\n",
    "print(f\"neighbours: {nnids[nth]} \\ndistances: {distances[nth]}\")\n",
    "\n",
    "print()\n",
    "\n",
    "print(f\"Accessing the neighbour coordinates of the {nth}th object:\")\n",
    "for ii in nnids[nth]:\n",
    "    print(ii, coords[ii])"
   ]
  },
  {
   "cell_type": "markdown",
   "metadata": {},
   "source": [
    "---\n",
    "\n",
    "### A visual sanity check for execution of `find_neighbour_points`  function"
   ]
  },
  {
   "cell_type": "code",
   "execution_count": 108,
   "metadata": {},
   "outputs": [
    {
     "data": {
      "image/png": "[encoded data removed]",
      "text/plain": [
       "<Figure size 576x432 with 1 Axes>"
      ]
     },
     "metadata": {
      "needs_background": "light"
     },
     "output_type": "display_data"
    },
    {
     "name": "stdout",
     "output_type": "stream",
     "text": [
      "index--> distance\t\tcolor\n",
      "14 ---> 5.475958131239454 \t r\n",
      "16 ---> 13.479755086756219 \t g\n",
      "44 ---> 10.276694368285947 \t b\n"
     ]
    }
   ],
   "source": [
    "demoid = 15\n",
    "\n",
    "plt.figure(figsize=(8,6))\n",
    "#plot demo point\n",
    "demora,demodec  = coords[demoid] \n",
    "plt.scatter(demora,demodec, c='black', s=100, marker=r'*')\n",
    "\n",
    "#access all the neighbours\n",
    "coords=np.array(coords)\n",
    "neighbours = nnids[demoid]\n",
    "\n",
    "#choose colors for a given number of neighbours\n",
    "colors = ['r','g','b']\n",
    "# colors = np.random.random( size=(len(neighbours),3) )\n",
    "\n",
    "#plot all the neighbour points\n",
    "plotra  = [coord[0] for coord in coords[neighbours] ]\n",
    "plotdec = [coord[1] for coord in coords[neighbours] ] \n",
    "plt.scatter(plotra, plotdec, c=colors, s=50, marker='o')\n",
    "\n",
    "for i in range(len(plotra)):\n",
    "    plt.plot([demora,plotra[i]],[demodec,plotdec[i]] , c=colors[i])\n",
    "\n",
    "plt.xlabel(\"ra (deg)\", fontsize=16)\n",
    "plt.ylabel(\"dec (deg)\", fontsize=16)\n",
    "plt.show()\n",
    "# plt.savefig(\"first.png\",bbox_inches=\"tight\")\n",
    "\n",
    "# Now visuall compare the distances\n",
    "print(\"index--> distance\\t\\tcolor\")\n",
    "ndist = distances[demoid]\n",
    "for nidx,dist,c in zip(neighbours,ndist,colors):\n",
    "    print(nidx,\"--->\",dist, '\\t', c)"
   ]
  },
  {
   "cell_type": "markdown",
   "metadata": {},
   "source": [
    "---"
   ]
  },
  {
   "cell_type": "markdown",
   "metadata": {},
   "source": [
    "### Using k-d tree algorithm to query the neighbour points within a given distance \n",
    "time complexity ~ $\\mathcal{O}(n\\log{}n)$ \n",
    "\n",
    "#### We'll use the `spatial.cKDTree` package from `scipy`.\n",
    "\n",
    "If you have many points whose neighbors you want to find, you may save substantial amounts of time by putting them in a `cKDTree` and using functions defined on this tree. For example: `query_ball_point`"
   ]
  },
  {
   "cell_type": "code",
   "execution_count": 109,
   "metadata": {},
   "outputs": [],
   "source": [
    "from scipy import spatial\n",
    "sin = np.sin\n",
    "cos = np.cos\n",
    "deg2rad = np.deg2rad"
   ]
  },
  {
   "cell_type": "markdown",
   "metadata": {},
   "source": [
    "### Write a wrapper code using cKDTree to find out the neighbours of a given `set1` of objects (coordinates) from a catalog of other objects, `set2`\n",
    "\n",
    "\\# Write this code in a `class structure` where it takes-in arrays of `ra,dec` of the catalog objects (set2) and \n",
    "- converts (ra,dec) to (x,y,z) of cartesian coordinates.\n",
    "- creates k-d tree of the catalog objects using (x,y,x)\n",
    "- queries for the neighbour points of each object in the `set1` using its ra,dec "
   ]
  },
  {
   "cell_type": "code",
   "execution_count": 110,
   "metadata": {},
   "outputs": [],
   "source": [
    "class find_neighbours:\n",
    "    def __init__(self, tra=None, tdec=None, r=1):\n",
    "        \"\"\"r==1 --> unit sphere calculations\"\"\"\n",
    "        self.tra = tra\n",
    "        self.tdec= tdec\n",
    "        self.r = r\n",
    "        self.rad_to_arcsec = 180.0*3600./np.pi\n",
    "        self.arcsec_to_rad = 1/self.rad_to_arcsec\n",
    "        \n",
    "        if r==1:\n",
    "            print(\"You are working with a unit sphere.\")\n",
    "        else:\n",
    "            print(f\"You are NOT working with a unit sphere, r={r}\")\n",
    "        \n",
    "    # write a function that converts ra,dec to cartesian components.\n",
    "    def RA_DEC_to_xyz(self, ra,dec, units='deg'):\n",
    "        \"\"\"converts ra,dec to cartesian x,y,z components on a unit sphere\"\"\"\n",
    "        if units==\"deg\":\n",
    "            ra = deg2rad(ra)\n",
    "            dec= deg2rad(dec)\n",
    "            \n",
    "        x = self.r *cos(dec) *cos(ra)\n",
    "        y = self.r *cos(dec) *sin(ra)\n",
    "        z = self.r *sin(dec)\n",
    "        return x,y,z \n",
    "\n",
    "    # write a function `create_tree` that takes arrays of ra,dec \n",
    "    # values as inputs and returns a cKDTree object into these coordinates.\n",
    "    \n",
    "    def create_tree(self):\n",
    "        # create an array of tuples of x,y,z\n",
    "        x,y,z = self.RA_DEC_to_xyz(self.tra,self.tdec)\n",
    "        # make a tree using cKDTree method \n",
    "        tree = spatial.cKDTree(np.c_[x,y,z])\n",
    "        return tree\n",
    "\n",
    "    # write a function that takes arrays of ra,dec coordinates\n",
    "    # and returns the neighbour object's indices from the tree \n",
    "    # within some distance `rmax` arcsec .\n",
    "    \n",
    "    def query_within_rmax(self, ra, dec, rmax=15, units=\"deg\"):\n",
    "        #convert rmax from arcsec to distance units\n",
    "        rmax = self.r *rmax *self.arcsec_to_rad \n",
    "        \n",
    "        # array of tuples of x,y,z of input objetcs\n",
    "        x,y,z = self.RA_DEC_to_xyz(ra,dec)\n",
    "        cartesian_coords = np.c_[x,y,z]\n",
    "\n",
    "        # make tree from catalog\n",
    "        tree = self.create_tree()\n",
    "        \n",
    "        # look for the neighbour objects\n",
    "        ids_into_tree = tree.query_ball_point(cartesian_coords,rmax)\n",
    "        \n",
    "        return ids_into_tree"
   ]
  },
  {
   "cell_type": "markdown",
   "metadata": {},
   "source": [
    "#### Testing conversion of (ra,dec) to (x,y,z) "
   ]
  },
  {
   "cell_type": "code",
   "execution_count": 111,
   "metadata": {},
   "outputs": [
    {
     "name": "stdout",
     "output_type": "stream",
     "text": [
      "You are working with a unit sphere.\n",
      "shapes of x,y,z arrays: (220622,) (220622,) (220622,)\n",
      "shapes of (x,y,z) tuple array: (220622, 3)\n"
     ]
    },
    {
     "data": {
      "text/plain": [
       "array([[ 0.8553461 ,  0.50608675, -0.11072151],\n",
       "       [ 0.85536537,  0.50607894, -0.11060828],\n",
       "       [ 0.85549871,  0.50586954, -0.11053492],\n",
       "       ...,\n",
       "       [ 0.78796508,  0.6142163 , -0.04300421],\n",
       "       [ 0.78737094,  0.61497898, -0.04298683],\n",
       "       [ 0.78774839,  0.61449982, -0.04292369]])"
      ]
     },
     "execution_count": 111,
     "metadata": {},
     "output_type": "execute_result"
    }
   ],
   "source": [
    "code = find_neighbours()\n",
    "\n",
    "# a look at the cartesian coordinates\n",
    "x,y,z = code.RA_DEC_to_xyz(coords[:,0], coords[:,1])\n",
    "cartesian_coords = np.c_[x,y,z]\n",
    "\n",
    "print(\"shapes of x,y,z arrays:\",x.shape,y.shape,z.shape)\n",
    "print(\"shapes of (x,y,z) tuple array:\", cartesian_coords.shape)\n",
    "#field on objects looks close to equator\n",
    "cartesian_coords"
   ]
  },
  {
   "cell_type": "markdown",
   "metadata": {},
   "source": [
    "#### Demo objects for which we'll compare the output of our brute force algorithm with cKDTree algorithm\n",
    "\n",
    "\\# Take the same bunch of objects for which we already have run our brute force search method,\n",
    "and feed them into the wrapper code of k-d tree written above, and find out their neighbour points\n",
    "within the same `rmax`(default value)=15 arcsec.\n"
   ]
  },
  {
   "cell_type": "code",
   "execution_count": 119,
   "metadata": {},
   "outputs": [
    {
     "name": "stdout",
     "output_type": "stream",
     "text": [
      "indices of test objects in set2(catalog): [15]\n",
      "coordinate of test objects: [[ 0.85581232  0.50543305 -0.11010311]]\n"
     ]
    }
   ],
   "source": [
    "demo_ids = [15] #9,15\n",
    "demo_ra =coords[demo_ids,0] #deg\n",
    "demo_dec=coords[demo_ids,1] #deg\n",
    "\n",
    "demox, demoy, demoz = code.RA_DEC_to_xyz(demo_ra, demo_dec)\n",
    "demoobj = np.c_[demox,demoy,demoz]\n",
    "print(\"indices of test objects in set2(catalog):\",demo_ids)\n",
    "print(\"coordinate of test objects:\",demoobj)\n",
    "\n",
    "# we want to look within `rmax` arcsec --> convert `rmax` from (arcsec) angle to length units\n",
    "\n",
    "rmax = 15 * arcsec_to_rad\n",
    "# print()\n",
    "# print(f\"rmax={rmax} in radians:\",rmax)"
   ]
  },
  {
   "cell_type": "markdown",
   "metadata": {},
   "source": [
    "\\# Initialize class and set up the tree"
   ]
  },
  {
   "cell_type": "code",
   "execution_count": 113,
   "metadata": {},
   "outputs": [
    {
     "name": "stdout",
     "output_type": "stream",
     "text": [
      "You are working with a unit sphere.\n"
     ]
    }
   ],
   "source": [
    "code_tree = find_neighbours(tra=coords[:,0], tdec=coords[:,1])"
   ]
  },
  {
   "cell_type": "markdown",
   "metadata": {},
   "source": [
    "\\# Query the neighbours of demo objects "
   ]
  },
  {
   "cell_type": "code",
   "execution_count": 114,
   "metadata": {},
   "outputs": [],
   "source": [
    "idx=code_tree.query_within_rmax(demo_ra, demo_dec)"
   ]
  },
  {
   "cell_type": "markdown",
   "metadata": {},
   "source": [
    "\\# Go back to brute force output and compare this result.... does it match? "
   ]
  },
  {
   "cell_type": "code",
   "execution_count": 115,
   "metadata": {},
   "outputs": [
    {
     "data": {
      "text/plain": [
       "array([list([14, 15, 16, 44])], dtype=object)"
      ]
     },
     "execution_count": 115,
     "metadata": {},
     "output_type": "execute_result"
    }
   ],
   "source": [
    "idx"
   ]
  }
 ],
 "metadata": {
  "kernelspec": {
   "display_name": "Python 3",
   "language": "python",
   "name": "python3"
  },
  "language_info": {
   "codemirror_mode": {
    "name": "ipython",
    "version": 3
   },
   "file_extension": ".py",
   "mimetype": "text/x-python",
   "name": "python",
   "nbconvert_exporter": "python",
   "pygments_lexer": "ipython3",
   "version": "3.7.3"
  }
 },
 "nbformat": 4,
 "nbformat_minor": 4
}
