{
 "cells": [
  {
   "cell_type": "markdown",
   "metadata": {},
   "source": [
    "# Day 1 - Introduction"
   ]
  },
  {
   "cell_type": "markdown",
   "metadata": {},
   "source": [
    "These notes aim to supplement the content covered in the Lectures on Weak Lensing by Prof Surhud More. It will help the readers to understand the tutorial sessions in a better manner. The primary aim is to give the readers a way to write their weak lensing signal computation pipelines.\n",
    "\n",
    "We will start these tutorial sessions with a quick introduction to the SciServer, which will provide us with the appropriate python environment and the data for these sessions. Then we will cover some basic python programming which is useful in the tutorials. We will then cover each part of the pipeline in step by step process. At present, the notes are created to cover the content in 3 days, but the exact structure for the tutorial sessions will depend on the progress of these sessions.\n",
    "\n",
    "The tutors for these sessions are :\n",
    "* Divya Rana - divyar@iucaa.in\n",
    "* Navin Chaurasiya - navin@iucaa.in\n",
    "\n",
    "A quick reference for weak  gravitational lensing is:\n",
    "* Saas-Fee Advanced Course 33: Gravitational Lensing: Strong, Weak & Micro  - https://link.springer.com/book/10.1007/978-3-540-30310-7\n",
    "* Also the arxiv version - https://arxiv.org/abs/astro-ph/0509252"
   ]
  },
  {
   "cell_type": "markdown",
   "metadata": {},
   "source": [
    "## Working on SciServer"
   ]
  },
  {
   "cell_type": "markdown",
   "metadata": {},
   "source": [
    "blah blah"
   ]
  },
  {
   "cell_type": "markdown",
   "metadata": {},
   "source": [
    "## Reading and Plotting the data"
   ]
  },
  {
   "cell_type": "code",
   "execution_count": null,
   "metadata": {},
   "outputs": [],
   "source": []
  }
 ],
 "metadata": {
  "kernelspec": {
   "display_name": "Python 3",
   "language": "python",
   "name": "python3"
  },
  "language_info": {
   "codemirror_mode": {
    "name": "ipython",
    "version": 3
   },
   "file_extension": ".py",
   "mimetype": "text/x-python",
   "name": "python",
   "nbconvert_exporter": "python",
   "pygments_lexer": "ipython3",
   "version": "3.7.3"
  }
 },
 "nbformat": 4,
 "nbformat_minor": 4
}
